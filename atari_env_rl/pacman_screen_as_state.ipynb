{
  "nbformat": 4,
  "nbformat_minor": 0,
  "metadata": {
    "kernelspec": {
      "name": "python3",
      "display_name": "Python 3"
    },
    "language_info": {
      "codemirror_mode": {
        "name": "ipython",
        "version": 3
      },
      "file_extension": ".py",
      "mimetype": "text/x-python",
      "name": "python",
      "nbconvert_exporter": "python",
      "pygments_lexer": "ipython3",
      "version": "3.7.4"
    },
    "colab": {
      "name": "pacman_screen_as_state.ipynb",
      "provenance": [],
      "collapsed_sections": [],
      "include_colab_link": true
    },
    "accelerator": "GPU"
  },
  "cells": [
    {
      "cell_type": "markdown",
      "metadata": {
        "id": "view-in-github",
        "colab_type": "text"
      },
      "source": [
        "<a href=\"https://colab.research.google.com/github/threewisemonkeys-as/dl_fun/blob/master/atari_env_rl/pacman_screen_as_state.ipynb\" target=\"_parent\"><img src=\"https://colab.research.google.com/assets/colab-badge.svg\" alt=\"Open In Colab\"/></a>"
      ]
    },
    {
      "cell_type": "code",
      "metadata": {
        "id": "CHhYqaKycyEH",
        "colab_type": "code",
        "outputId": "552eb276-fcb4-43a1-96b3-c36124b8f1dd",
        "colab": {
          "base_uri": "https://localhost:8080/",
          "height": 34
        }
      },
      "source": [
        "import gym\n",
        "import math\n",
        "import random\n",
        "import itertools\n",
        "import numpy as np\n",
        "import collections\n",
        "import matplotlib\n",
        "import matplotlib.pyplot as plt\n",
        "\n",
        "from PIL import Image\n",
        "\n",
        "import torch\n",
        "import torch.nn as nn\n",
        "import torch.optim as optim\n",
        "import torch.nn.functional as F\n",
        "import torchvision.transforms as T\n",
        "\n",
        "is_ipython = 'inline' in matplotlib.get_backend()\n",
        "if is_ipython:\n",
        "    from IPython import display\n",
        "plt.ion()\n",
        "\n",
        "import warnings\n",
        "warnings.filterwarnings('ignore')\n",
        "\n",
        "device = torch.device(\"cuda\" if torch.cuda.is_available() else \"cpu\")\n",
        "device"
      ],
      "execution_count": 0,
      "outputs": [
        {
          "output_type": "execute_result",
          "data": {
            "text/plain": [
              "device(type='cuda')"
            ]
          },
          "metadata": {
            "tags": []
          },
          "execution_count": 1
        }
      ]
    },
    {
      "cell_type": "code",
      "metadata": {
        "id": "wYwQFrTEcyFu",
        "colab_type": "code",
        "colab": {}
      },
      "source": [
        "env = gym.make('MsPacman-v0').unwrapped"
      ],
      "execution_count": 0,
      "outputs": []
    },
    {
      "cell_type": "markdown",
      "metadata": {
        "id": "_Ee_U-bIcyGB",
        "colab_type": "text"
      },
      "source": [
        "### Define NN architecture"
      ]
    },
    {
      "cell_type": "code",
      "metadata": {
        "id": "WZpmQDLkcyGH",
        "colab_type": "code",
        "colab": {}
      },
      "source": [
        "class DQN(nn.Module):\n",
        "    \n",
        "    def __init__(self, h, w, outputs):\n",
        "        super(DQN, self).__init__()\n",
        "        self.conv1 = nn.Conv2d(1, 16, kernel_size=5, stride=2)\n",
        "        self.bn1 = nn.BatchNorm2d(16)\n",
        "        self.conv2 = nn.Conv2d(16, 32, kernel_size=5, stride=2)\n",
        "        self.bn2 = nn.BatchNorm2d(32)\n",
        "        self.conv3 = nn.Conv2d(32, 32, kernel_size=5, stride=2)\n",
        "        self.bn3 = nn.BatchNorm2d(32)\n",
        "        \n",
        "        def conv2d_size_out(size, kernel_size=5, stride=2):\n",
        "            return (size - kernel_size) // stride + 1\n",
        "        \n",
        "        convw = conv2d_size_out(conv2d_size_out(conv2d_size_out(w)))\n",
        "        convh = conv2d_size_out(conv2d_size_out(conv2d_size_out(h)))\n",
        "        linear_input_size = convw * convh * 32\n",
        "        self.head = nn.Linear(linear_input_size, outputs)\n",
        "        \n",
        "    def forward(self, x):\n",
        "        x = F.relu(self.bn1(self.conv1(x)))\n",
        "        x = F.relu(self.bn2(self.conv2(x)))\n",
        "        x = F.relu(self.bn3(self.conv3(x)))\n",
        "        return self.head(x.view(x.size(0), -1))"
      ],
      "execution_count": 0,
      "outputs": []
    },
    {
      "cell_type": "markdown",
      "metadata": {
        "id": "stPubWYzcyGP",
        "colab_type": "text"
      },
      "source": [
        "\n",
        "\n",
        "\n",
        "### Define function to get screenshot"
      ]
    },
    {
      "cell_type": "code",
      "metadata": {
        "id": "BVP_FMWucyGR",
        "colab_type": "code",
        "outputId": "ddec4f3d-d5ac-45b1-c470-9b393bc08d87",
        "colab": {
          "base_uri": "https://localhost:8080/",
          "height": 281
        }
      },
      "source": [
        "proccess_screen = T.Compose([\n",
        "    T.ToPILImage(),\n",
        "    T.Lambda(lambda img: T.functional.crop(img, 0, 5, 170, 150)),\n",
        "    T.Grayscale(),\n",
        "    T.Resize([100, 100]),\n",
        "    T.ToTensor(),\n",
        "    T.Lambda(lambda img: img.unsqueeze(0).to(device)),\n",
        "])\n",
        "\n",
        "def view_screen(screen, title='Screen'):\n",
        "    plt.figure()\n",
        "    plt.clf()\n",
        "    plt.imshow(proccess_screen(screen).squeeze(0).squeeze(0).cpu().numpy(), cmap='gray')\n",
        "    plt.title(title)\n",
        "    plt.show()\n",
        "\n",
        "    \n",
        "view_screen(env.reset(), title='Example extracted screen')"
      ],
      "execution_count": 0,
      "outputs": [
        {
          "output_type": "display_data",
          "data": {
            "image/png": "[encoded data removed]",
            "text/plain": [
              "<Figure size 432x288 with 1 Axes>"
            ]
          },
          "metadata": {
            "tags": []
          }
        }
      ]
    },
    {
      "cell_type": "code",
      "metadata": {
        "id": "z7TD-5OD16dJ",
        "colab_type": "code",
        "outputId": "71489d8c-94db-4a65-8b57-09056fb129bc",
        "colab": {
          "base_uri": "https://localhost:8080/",
          "height": 34
        }
      },
      "source": [
        "proccess_screen(env.reset()).shape"
      ],
      "execution_count": 0,
      "outputs": [
        {
          "output_type": "execute_result",
          "data": {
            "text/plain": [
              "torch.Size([1, 1, 100, 100])"
            ]
          },
          "metadata": {
            "tags": []
          },
          "execution_count": 7
        }
      ]
    },
    {
      "cell_type": "markdown",
      "metadata": {
        "id": "2kIYrM7KcyGj",
        "colab_type": "text"
      },
      "source": [
        "### Initialize NNs and other utitlities"
      ]
    },
    {
      "cell_type": "code",
      "metadata": {
        "id": "603NEer9cyGn",
        "colab_type": "code",
        "outputId": "bea5ab9a-c64a-4917-f967-011050baea15",
        "colab": {
          "base_uri": "https://localhost:8080/",
          "height": 170
        }
      },
      "source": [
        "# Custom tuple to store each transition\n",
        "Transition = collections.namedtuple('Transition', ('state', 'action', 'next_state', 'reward', 'done'))\n",
        "\n",
        "# Get screen dimensions\n",
        "_, _, screen_height, screen_width = proccess_screen(env.reset()).shape\n",
        "\n",
        "# Instatiate policy and target NNs.\n",
        "policy_net = DQN(screen_height, screen_width, env.action_space.n).to(device)\n",
        "target_net = DQN(screen_height, screen_width, env.action_space.n).to(device)\n",
        "target_net.load_state_dict(policy_net.state_dict())\n",
        "target_net.eval()"
      ],
      "execution_count": 0,
      "outputs": [
        {
          "output_type": "execute_result",
          "data": {
            "text/plain": [
              "DQN(\n",
              "  (conv1): Conv2d(1, 16, kernel_size=(5, 5), stride=(2, 2))\n",
              "  (bn1): BatchNorm2d(16, eps=1e-05, momentum=0.1, affine=True, track_running_stats=True)\n",
              "  (conv2): Conv2d(16, 32, kernel_size=(5, 5), stride=(2, 2))\n",
              "  (bn2): BatchNorm2d(32, eps=1e-05, momentum=0.1, affine=True, track_running_stats=True)\n",
              "  (conv3): Conv2d(32, 32, kernel_size=(5, 5), stride=(2, 2))\n",
              "  (bn3): BatchNorm2d(32, eps=1e-05, momentum=0.1, affine=True, track_running_stats=True)\n",
              "  (head): Linear(in_features=2592, out_features=9, bias=True)\n",
              ")"
            ]
          },
          "metadata": {
            "tags": []
          },
          "execution_count": 5
        }
      ]
    },
    {
      "cell_type": "code",
      "metadata": {
        "id": "_2kxBJ9CcyGs",
        "colab_type": "code",
        "colab": {}
      },
      "source": [
        "def optimize_model(memory, optimizer, BATCH_SIZE, GAMMA, losses):\n",
        "    \n",
        "    # Dont update model until replay memory has enough elements\n",
        "    if len(memory) < BATCH_SIZE:\n",
        "        return\n",
        "    \n",
        "    # Get random sample batch from replay memory\n",
        "    transitions = random.sample(memory, BATCH_SIZE)\n",
        "    \n",
        "    # Transpose the batch (see https://stackoverflow.com/a/19343/3343043 for\n",
        "    # detailed explanation). This converts batch-array of Transitions\n",
        "    # to Transition of batch-arrays.\n",
        "    batch = Transition(*zip(*transitions))\n",
        "        \n",
        "    \n",
        "    # Compute a mask of non-final states and concatenate the batch elements\n",
        "    # (a final state would've been the one after which simulation ended)\n",
        "    non_final_mask = torch.tensor(tuple(map(lambda s: s is not None, batch.next_state)), \n",
        "                                  device=device, dtype=torch.uint8)\n",
        "    non_final_next_states = torch.cat([s for s in batch.next_state\n",
        "                                                if s is not None])\n",
        "    state_batch = torch.cat(batch.state)\n",
        "    action_batch = torch.cat(batch.action)\n",
        "    reward_batch = torch.cat(batch.reward)\n",
        "\n",
        "    # Compute Q(s_t, a) - the model computes Q(s_t), then we select the\n",
        "    # columns of actions taken. These are the actions which would've been taken\n",
        "    # for each batch state according to policy_net\n",
        "    state_action_values = policy_net(state_batch).gather(1, action_batch)\n",
        "\n",
        "    # Compute V(s_{t+1}) for all next states.\n",
        "    # Expected values of actions for non_final_next_states are computed based\n",
        "    # on the \"older\" target_net; selecting their best reward with max(1)[0].\n",
        "    # This is merged based on the mask, such that we'll have either the expected\n",
        "    # state value or 0 in case the state was final.\n",
        "    next_state_values = torch.zeros(BATCH_SIZE, device=device)\n",
        "    next_state_values[non_final_mask] = target_net(non_final_next_states).max(1)[0].detach()\n",
        "    \n",
        "    # Compute the expected Q values\n",
        "    expected_state_action_values = (next_state_values * GAMMA) + reward_batch\n",
        "    \n",
        "    # Compute Huber loss\n",
        "    loss = F.smooth_l1_loss(state_action_values, expected_state_action_values.unsqueeze(1))\n",
        "    losses.append(loss)\n",
        "    \n",
        "    # Optimize the model\n",
        "    optimizer.zero_grad()\n",
        "    loss.backward()\n",
        "    \n",
        "    # Clip gradients \n",
        "    for param in policy_net.parameters():\n",
        "        param.grad.data.clamp_(-1, 1)\n",
        "    \n",
        "    optimizer.step()"
      ],
      "execution_count": 0,
      "outputs": []
    },
    {
      "cell_type": "code",
      "metadata": {
        "id": "Zrps4nWtcyGy",
        "colab_type": "code",
        "colab": {}
      },
      "source": [
        "def train(num_episodes, optimizer,\n",
        "          REPLAY_MEMORY_SIZE, BATCH_SIZE, GAMMA, EPS_START, EPS_END, EPS_DECAY, TARGET_UPDATE,\n",
        "          verbose=False, animation=False):\n",
        "    \n",
        "    # Memory to store previous experiences\n",
        "    memory = collections.deque(maxlen=REPLAY_MEMORY_SIZE)\n",
        "    \n",
        "    # Tracking variables\n",
        "    steps_done = 0\n",
        "    step_wise_scores = []\n",
        "    episode_wise_scores = []\n",
        "    losses = []\n",
        "\n",
        "    for i_episode in range(num_episodes):\n",
        "        print(f\"Running Episode {i_episode + 1}/{num_episodes} ...\")\n",
        "        \n",
        "        # Initialize the environment and state\n",
        "        state = proccess_screen(env.reset())\n",
        "        episode_wise_scores.append(0)\n",
        "\n",
        "        # Play single game\n",
        "        for t in itertools.count():           \n",
        "            \n",
        "            # Select and perform an action using epsilon greedy\n",
        "            steps_done += 1\n",
        "\n",
        "            if EPS_DECAY is not None:\n",
        "              EPS = EPS_END + (EPS_START - EPS_END) * math.exp(-1. * steps_done / EPS_DECAY)\n",
        "            else:\n",
        "              EPS = EPS_START - (EPS_START - EPS_END) * (i_episode / num_episodes)\n",
        "\n",
        "            if random.random() > EPS:\n",
        "                with torch.no_grad():\n",
        "                    action = policy_net(state).max(1)[1].view(1, 1)\n",
        "            else:\n",
        "                 action = torch.tensor([[random.randrange(env.action_space.n)]], \n",
        "                                       device=device, dtype=torch.long)\n",
        "\n",
        "            # Take action and record the reward from the environment\n",
        "            current_screen, reward, done, _ = env.step(action.item())\n",
        "            step_wise_scores.append(reward)\n",
        "            episode_wise_scores[-1] += reward\n",
        "            reward = torch.tensor([reward], device=device)\n",
        "            next_state = proccess_screen(current_screen)\n",
        "            \n",
        "            # Store the transition in memory\n",
        "            memory.append(Transition(state, action, next_state, reward, done))\n",
        "\n",
        "            # Move to the next state\n",
        "            state = next_state\n",
        "\n",
        "            # Update the target network, copying all weights and biases in DQN\n",
        "            if steps_done % TARGET_UPDATE == 0:\n",
        "                target_net.load_state_dict(policy_net.state_dict())\n",
        "\n",
        "            # Perform one step of the optimization (on the target network)\n",
        "            optimize_model(memory, optimizer, BATCH_SIZE, GAMMA, losses)\n",
        "            \n",
        "            # Render the gameplay\n",
        "            if animation:\n",
        "                env.render()\n",
        "            \n",
        "            # Log progress periodically\n",
        "            if (t + 1) % 100 == 0 and verbose:\n",
        "                print(f\" - Reward after {t + 1} steps is {episode_wise_scores[-1]}\")\n",
        "            \n",
        "            # Break from loop if done\n",
        "            if done:\n",
        "                break\n",
        "                \n",
        "        print(f\"> Score for Episode {i_episode + 1} = {episode_wise_scores[-1]} after completing {t + 1} steps. | Running Average = {(sum(episode_wise_scores) / len(episode_wise_scores)):.1f}\\n\")\n",
        "        \n",
        "    if animation:\n",
        "        env.close()\n",
        "        \n",
        "    print('\\nTraining complete!')"
      ],
      "execution_count": 0,
      "outputs": []
    },
    {
      "cell_type": "code",
      "metadata": {
        "id": "l3LIYqk2cyHC",
        "colab_type": "code",
        "colab": {}
      },
      "source": [
        "def test_net(num_episodes, verbose=False, animation=False):\n",
        "    \n",
        "    episode_wise_scores = []\n",
        "    step_wise_scores = []\n",
        "    \n",
        "    for i_episode in range(num_episodes):\n",
        "        print(f\"Running {i_episode + 1}/{num_episodes} ...\")\n",
        "        \n",
        "        # Initialize the environment and state\n",
        "        state = proccess_screen(env.reset())\n",
        "        episode_wise_scores.append(0)\n",
        "\n",
        "        # Play single game\n",
        "        for t in itertools.count():\n",
        "            \n",
        "            # Select action\n",
        "            with torch.no_grad():\n",
        "                action = policy_net(state).max(1)[1].view(1, 1)\n",
        "                    \n",
        "            # Take action and record the reward from the environment\n",
        "            current_screen, reward, done, _ = env.step(action.item())\n",
        "            step_wise_scores.append(reward)\n",
        "            episode_wise_scores[-1] += reward\n",
        "            reward = torch.tensor([reward], device=device)\n",
        "            next_state = proccess_screen(current_screen)\n",
        "\n",
        "            # Move to the next state\n",
        "            state = next_state\n",
        "            \n",
        "            # Render the gameplay\n",
        "            if animation:\n",
        "                env.render()\n",
        "            \n",
        "            # Log progress periodically\n",
        "            if (t + 1) % 100 == 0 and verbose:\n",
        "                print(f\" - Reward after {t} steps is {episode_wise_scores[-1]}\")\n",
        "\n",
        "            if done:\n",
        "                break\n",
        "\n",
        "        print(f\"> Score for Episode {i_episode} = {episode_wise_scores[-1]} | Running Average = {(sum(episode_wise_scores) / len(episode_wise_scores)):.1f}\\n\")\n",
        "\n",
        "    if animation:\n",
        "        env.close()\n",
        "    \n",
        "    print(f\"\\nComplete | Average score = {sum(episode_wise_scores) / len(episode_wise_scores)}\")"
      ],
      "execution_count": 0,
      "outputs": []
    },
    {
      "cell_type": "code",
      "metadata": {
        "id": "8U00UVrIcyHM",
        "colab_type": "code",
        "colab": {}
      },
      "source": [
        "def test_random(num_episodes, verbose=False, animation=False):\n",
        "    episode_wise_scores = []\n",
        "    step_wise_scores = []\n",
        "    \n",
        "    for i_episode in range(num_episodes):\n",
        "        print(f\"Running {i_episode + 1}/{num_episodes} ...\")\n",
        "        \n",
        "        # Initialize the environment and state\n",
        "        state = proccess_screen(env.reset())\n",
        "        episode_wise_scores.append(0)\n",
        "\n",
        "        # Play single game\n",
        "        for t in itertools.count():\n",
        "            \n",
        "            # Select action\n",
        "            with torch.no_grad():\n",
        "                action = random.randrange(env.action_space.n)\n",
        "                    \n",
        "            # Take action and record the reward from the environment\n",
        "            current_screen, reward, done, _ = env.step(action)\n",
        "            step_wise_scores.append(reward)\n",
        "            episode_wise_scores[-1] += reward\n",
        "            reward = torch.tensor([reward], device=device)\n",
        "            next_state = proccess_screen(current_screen)\n",
        "\n",
        "            # Move to the next state\n",
        "            state = next_state\n",
        "            \n",
        "            # Render the gameplay\n",
        "            if animation:\n",
        "                env.render()\n",
        "            \n",
        "            # Log progress periodically\n",
        "            if (t + 1) % 100 == 0 and verbose:\n",
        "                print(f\" - Reward after {t} steps is {episode_wise_scores[-1]}\")\n",
        "\n",
        "            if done:\n",
        "                break\n",
        "\n",
        "        print(f\"> Score for Episode {i_episode} = {episode_wise_scores[-1]} | Running Average = {(sum(episode_wise_scores) / len(episode_wise_scores)):.1f}\\n\")\n",
        "\n",
        "    if animation:\n",
        "        env.close()\n",
        "    \n",
        "    print(f\"\\nComplete | Average score = {sum(episode_wise_scores) / len(episode_wise_scores)}\")"
      ],
      "execution_count": 0,
      "outputs": []
    },
    {
      "cell_type": "code",
      "metadata": {
        "id": "BgSxCmPqiFGg",
        "colab_type": "code",
        "outputId": "6b93280e-fe10-4394-d3a4-5153ffbb9aff",
        "colab": {
          "base_uri": "https://localhost:8080/",
          "height": 1000
        }
      },
      "source": [
        "train(num_episodes=10,\n",
        "      optimizer=optim.RMSprop(policy_net.parameters()),\n",
        "      REPLAY_MEMORY_SIZE=10_000,\n",
        "      BATCH_SIZE=128,\n",
        "      GAMMA=0.95,\n",
        "      EPS_START=0.9,\n",
        "      EPS_END=0.1,\n",
        "      EPS_DECAY=None,\n",
        "      TARGET_UPDATE=50,\n",
        "      verbose=True,\n",
        "      animation=False)"
      ],
      "execution_count": 0,
      "outputs": [
        {
          "output_type": "stream",
          "text": [
            "Running Episode 1/10 ...\n",
            " - Reward after 100 steps is 10.0\n",
            " - Reward after 200 steps is 50.0\n",
            " - Reward after 300 steps is 100.0\n",
            " - Reward after 400 steps is 120.0\n",
            " - Reward after 500 steps is 160.0\n",
            "> Score for Episode 1 = 190.0 after completing 582 steps. | Running Average = 190.0\n",
            "\n",
            "Running Episode 2/10 ...\n",
            " - Reward after 100 steps is 10.0\n",
            " - Reward after 200 steps is 50.0\n",
            " - Reward after 300 steps is 50.0\n",
            " - Reward after 400 steps is 110.0\n",
            " - Reward after 500 steps is 110.0\n",
            "> Score for Episode 2 = 160.0 after completing 586 steps. | Running Average = 175.0\n",
            "\n",
            "Running Episode 3/10 ...\n",
            " - Reward after 100 steps is 20.0\n",
            " - Reward after 200 steps is 80.0\n",
            " - Reward after 300 steps is 100.0\n",
            " - Reward after 400 steps is 160.0\n",
            " - Reward after 500 steps is 210.0\n",
            " - Reward after 600 steps is 220.0\n",
            " - Reward after 700 steps is 240.0\n",
            "> Score for Episode 3 = 240.0 after completing 736 steps. | Running Average = 196.7\n",
            "\n",
            "Running Episode 4/10 ...\n",
            " - Reward after 100 steps is 10.0\n",
            " - Reward after 200 steps is 100.0\n",
            " - Reward after 300 steps is 110.0\n",
            " - Reward after 400 steps is 120.0\n",
            " - Reward after 500 steps is 120.0\n",
            " - Reward after 600 steps is 210.0\n",
            "> Score for Episode 4 = 250.0 after completing 680 steps. | Running Average = 210.0\n",
            "\n",
            "Running Episode 5/10 ...\n",
            " - Reward after 100 steps is 10.0\n",
            " - Reward after 200 steps is 70.0\n",
            " - Reward after 300 steps is 80.0\n",
            " - Reward after 400 steps is 100.0\n",
            " - Reward after 500 steps is 130.0\n",
            " - Reward after 600 steps is 170.0\n",
            " - Reward after 700 steps is 210.0\n",
            "> Score for Episode 5 = 210.0 after completing 712 steps. | Running Average = 210.0\n",
            "\n",
            "Running Episode 6/10 ...\n",
            " - Reward after 100 steps is 30.0\n",
            " - Reward after 200 steps is 100.0\n",
            " - Reward after 300 steps is 140.0\n",
            " - Reward after 400 steps is 180.0\n",
            " - Reward after 500 steps is 200.0\n",
            " - Reward after 600 steps is 200.0\n",
            "> Score for Episode 6 = 210.0 after completing 665 steps. | Running Average = 210.0\n",
            "\n",
            "Running Episode 7/10 ...\n",
            " - Reward after 100 steps is 20.0\n",
            " - Reward after 200 steps is 90.0\n",
            " - Reward after 300 steps is 120.0\n",
            " - Reward after 400 steps is 160.0\n",
            " - Reward after 500 steps is 220.0\n",
            "> Score for Episode 7 = 220.0 after completing 559 steps. | Running Average = 211.4\n",
            "\n",
            "Running Episode 8/10 ...\n",
            " - Reward after 100 steps is 30.0\n",
            " - Reward after 200 steps is 110.0\n",
            " - Reward after 300 steps is 110.0\n",
            " - Reward after 400 steps is 190.0\n",
            " - Reward after 500 steps is 260.0\n",
            "> Score for Episode 8 = 260.0 after completing 547 steps. | Running Average = 217.5\n",
            "\n",
            "Running Episode 9/10 ...\n",
            " - Reward after 100 steps is 20.0\n",
            " - Reward after 200 steps is 90.0\n",
            " - Reward after 300 steps is 90.0\n",
            " - Reward after 400 steps is 110.0\n",
            " - Reward after 500 steps is 130.0\n",
            " - Reward after 600 steps is 190.0\n",
            "> Score for Episode 9 = 190.0 after completing 645 steps. | Running Average = 214.4\n",
            "\n",
            "Running Episode 10/10 ...\n",
            " - Reward after 100 steps is 20.0\n",
            " - Reward after 200 steps is 60.0\n",
            " - Reward after 300 steps is 150.0\n",
            " - Reward after 400 steps is 210.0\n",
            "> Score for Episode 10 = 220.0 after completing 485 steps. | Running Average = 215.0\n",
            "\n",
            "\n",
            "Training complete!\n"
          ],
          "name": "stdout"
        }
      ]
    },
    {
      "cell_type": "code",
      "metadata": {
        "id": "cT4eW_Dzg1CL",
        "colab_type": "code",
        "outputId": "43b8fef2-3577-4504-b5e1-37e6abc7077f",
        "colab": {
          "base_uri": "https://localhost:8080/",
          "height": 163
        }
      },
      "source": [
        "test_net(10)"
      ],
      "execution_count": 0,
      "outputs": [
        {
          "output_type": "error",
          "ename": "NameError",
          "evalue": "ignored",
          "traceback": [
            "\u001b[0;31m---------------------------------------------------------------------------\u001b[0m",
            "\u001b[0;31mNameError\u001b[0m                                 Traceback (most recent call last)",
            "\u001b[0;32m<ipython-input-1-4319a8d50a7b>\u001b[0m in \u001b[0;36m<module>\u001b[0;34m()\u001b[0m\n\u001b[0;32m----> 1\u001b[0;31m \u001b[0mtest_net\u001b[0m\u001b[0;34m(\u001b[0m\u001b[0;36m10\u001b[0m\u001b[0;34m)\u001b[0m\u001b[0;34m\u001b[0m\u001b[0;34m\u001b[0m\u001b[0m\n\u001b[0m",
            "\u001b[0;31mNameError\u001b[0m: name 'test_net' is not defined"
          ]
        }
      ]
    },
    {
      "cell_type": "code",
      "metadata": {
        "id": "f0BYbJ_9g4HU",
        "colab_type": "code",
        "outputId": "526db467-da1e-42d8-cd6a-79f15dce1d92",
        "colab": {
          "base_uri": "https://localhost:8080/",
          "height": 561
        }
      },
      "source": [
        "test_random(10)"
      ],
      "execution_count": 0,
      "outputs": [
        {
          "output_type": "stream",
          "text": [
            "Running 1/10 ...\n",
            "> Score for Episode 0 = 310.0 | Running Average = 310.0\n",
            "\n",
            "Running 2/10 ...\n",
            "> Score for Episode 1 = 160.0 | Running Average = 235.0\n",
            "\n",
            "Running 3/10 ...\n",
            "> Score for Episode 2 = 160.0 | Running Average = 210.0\n",
            "\n",
            "Running 4/10 ...\n",
            "> Score for Episode 3 = 200.0 | Running Average = 207.5\n",
            "\n",
            "Running 5/10 ...\n",
            "> Score for Episode 4 = 150.0 | Running Average = 196.0\n",
            "\n",
            "Running 6/10 ...\n",
            "> Score for Episode 5 = 230.0 | Running Average = 201.7\n",
            "\n",
            "Running 7/10 ...\n",
            "> Score for Episode 6 = 190.0 | Running Average = 200.0\n",
            "\n",
            "Running 8/10 ...\n",
            "> Score for Episode 7 = 340.0 | Running Average = 217.5\n",
            "\n",
            "Running 9/10 ...\n",
            "> Score for Episode 8 = 240.0 | Running Average = 220.0\n",
            "\n",
            "Running 10/10 ...\n",
            "> Score for Episode 9 = 190.0 | Running Average = 217.0\n",
            "\n",
            "\n",
            "Complete | Average score = 217.0\n"
          ],
          "name": "stdout"
        }
      ]
    },
    {
      "cell_type": "code",
      "metadata": {
        "id": "MIaYJL5vxkQC",
        "colab_type": "code",
        "colab": {}
      },
      "source": [
        "from google.colab import files\n",
        "def download_policy_net():\n",
        "  torch.save(policy_net.state_dict(), 'checkpoint.pth')\n",
        "  files.download('checkpoint.pth')"
      ],
      "execution_count": 0,
      "outputs": []
    },
    {
      "cell_type": "code",
      "metadata": {
        "id": "FKghb-iix2j2",
        "colab_type": "code",
        "colab": {}
      },
      "source": [
        ""
      ],
      "execution_count": 0,
      "outputs": []
    }
  ]
}