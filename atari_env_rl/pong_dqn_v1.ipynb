{
  "nbformat": 4,
  "nbformat_minor": 0,
  "metadata": {
    "colab": {
      "name": "pong_dqn_v1.ipynb",
      "provenance": [],
      "collapsed_sections": [],
      "include_colab_link": true
    },
    "kernelspec": {
      "name": "python3",
      "display_name": "Python 3"
    },
    "accelerator": "GPU"
  },
  "cells": [
    {
      "cell_type": "markdown",
      "metadata": {
        "id": "view-in-github",
        "colab_type": "text"
      },
      "source": [
        "<a href=\"https://colab.research.google.com/github/threewisemonkeys-as/dl_fun/blob/master/atari_env_rl/pong_dqn_v1.ipynb\" target=\"_parent\"><img src=\"https://colab.research.google.com/assets/colab-badge.svg\" alt=\"Open In Colab\"/></a>"
      ]
    },
    {
      "cell_type": "code",
      "metadata": {
        "id": "Ed8FOHUReRby",
        "colab_type": "code",
        "outputId": "ba618fb6-5ee9-4401-944b-0f79d3145f77",
        "colab": {
          "base_uri": "https://localhost:8080/",
          "height": 34
        }
      },
      "source": [
        "import math, random\n",
        "\n",
        "import gym\n",
        "import cv2\n",
        "import numpy as np\n",
        "import collections\n",
        "\n",
        "import torch\n",
        "import torch.nn as nn\n",
        "import torch.optim as optim\n",
        "import torch.autograd as autograd \n",
        "import torch.nn.functional as F\n",
        "\n",
        "from IPython.display import clear_output\n",
        "import matplotlib.pyplot as plt\n",
        "%matplotlib inline\n",
        "plt.ion()\n",
        "\n",
        "device = torch.device(\"cuda\" if torch.cuda.is_available() else \"cpu\")\n",
        "device"
      ],
      "execution_count": 0,
      "outputs": [
        {
          "output_type": "execute_result",
          "data": {
            "text/plain": [
              "device(type='cuda')"
            ]
          },
          "metadata": {
            "tags": []
          },
          "execution_count": 1
        }
      ]
    },
    {
      "cell_type": "markdown",
      "metadata": {
        "id": "47VOWjEJhU_D",
        "colab_type": "text"
      },
      "source": [
        "### Pong Environment"
      ]
    },
    {
      "cell_type": "code",
      "metadata": {
        "id": "ZnXUFNITE694",
        "colab_type": "code",
        "colab": {}
      },
      "source": [
        "class NoOpResetEnv(gym.Wrapper):\n",
        "  def __init__(self, env, noop_max=30):\n",
        "    gym.Wrapper.__init__(self, env)\n",
        "    self.noop_max = noop_max\n",
        "\n",
        "  def reset(self, **kwargs):\n",
        "    self.env.reset(**kwargs)\n",
        "    for _ in range(random.randint(1, noop_max + 1)):\n",
        "      obs, _, done, _ = self.env.step(0)\n",
        "      if done:\n",
        "        obs = self.env.reset(**kwargs)\n",
        "\n",
        "    return obs\n",
        "\n",
        "  def step(self, action):\n",
        "        return self.env.step(action)\n",
        "\n"
      ],
      "execution_count": 0,
      "outputs": []
    },
    {
      "cell_type": "code",
      "metadata": {
        "id": "Zt2rIQ5ThSNf",
        "colab_type": "code",
        "outputId": "57e5e23b-a777-4ce9-9839-0947f5dfed75",
        "colab": {
          "base_uri": "https://localhost:8080/",
          "height": 286
        }
      },
      "source": [
        "env = gym.make(\"PongNoFrameskip-v4\")\n",
        "plt.imshow(env.reset())"
      ],
      "execution_count": 0,
      "outputs": [
        {
          "output_type": "execute_result",
          "data": {
            "text/plain": [
              "<matplotlib.image.AxesImage at 0x7fe9b7822d30>"
            ]
          },
          "metadata": {
            "tags": []
          },
          "execution_count": 3
        },
        {
          "output_type": "display_data",
          "data": {
            "image/png": "[encoded data removed]",
            "text/plain": [
              "<Figure size 432x288 with 1 Axes>"
            ]
          },
          "metadata": {
            "tags": []
          }
        }
      ]
    },
    {
      "cell_type": "markdown",
      "metadata": {
        "id": "FpYiQeepclu3",
        "colab_type": "text"
      },
      "source": [
        "### Screen Preproccessor"
      ]
    },
    {
      "cell_type": "code",
      "metadata": {
        "id": "DiWID8gUA7qV",
        "colab_type": "code",
        "outputId": "b7a9ec1c-accf-4c34-9a8e-a439f63fa400",
        "colab": {
          "base_uri": "https://localhost:8080/",
          "height": 285
        }
      },
      "source": [
        "def proccess_screen(frame, gray=True, crop_shape=(32, 195), resize_shape=(84, 84)):\n",
        "  if gray:\n",
        "    frame = cv2.cvtColor(frame, cv2.COLOR_RGB2GRAY)\n",
        "  frame = frame[:][crop_shape[0]:crop_shape[1]]\n",
        "  frame = cv2.resize(frame, resize_shape)\n",
        "  frame = torch.tensor(frame, dtype=torch.float).unsqueeze(0).unsqueeze(0).to(device)\n",
        "  return frame\n",
        "\n",
        "plt.imshow(proccess_screen(env.reset()).squeeze(0).squeeze(0).cpu(), cmap='gray')"
      ],
      "execution_count": 0,
      "outputs": [
        {
          "output_type": "execute_result",
          "data": {
            "text/plain": [
              "<matplotlib.image.AxesImage at 0x7fe9b6af7be0>"
            ]
          },
          "metadata": {
            "tags": []
          },
          "execution_count": 4
        },
        {
          "output_type": "display_data",
          "data": {
            "image/png": "[encoded data removed]",
            "text/plain": [
              "<Figure size 432x288 with 1 Axes>"
            ]
          },
          "metadata": {
            "tags": []
          }
        }
      ]
    },
    {
      "cell_type": "markdown",
      "metadata": {
        "id": "DsbKmEJ2esdg",
        "colab_type": "text"
      },
      "source": [
        "### Replay Buffer"
      ]
    },
    {
      "cell_type": "code",
      "metadata": {
        "id": "DiVpAFy3evOU",
        "colab_type": "code",
        "colab": {}
      },
      "source": [
        "Transition = collections.namedtuple('Transition', ('state', 'action', 'next_state', 'reward', 'done'))"
      ],
      "execution_count": 0,
      "outputs": []
    },
    {
      "cell_type": "code",
      "metadata": {
        "id": "jXeFBrK_ekKQ",
        "colab_type": "code",
        "colab": {}
      },
      "source": [
        "class ReplayBuffer():\n",
        "\n",
        "  def __init__(self, capacity):\n",
        "    self.buffer = collections.deque(maxlen=capacity)\n",
        "\n",
        "  def __len__(self):\n",
        "    return len(self.buffer)\n",
        "\n",
        "  def push(self, state, action, next_state, reward, done):\n",
        "    self.buffer.append(Transition(state, action, next_state, reward, done))\n",
        "\n",
        "  def sample(self, batch_size):\n",
        "    state, action, next_state, reward, done = zip(*random.sample(self.buffer, batch_size))\n",
        "    return torch.cat(state), torch.cat(action), torch.cat(next_state), torch.cat(reward), torch.cat(done)\n"
      ],
      "execution_count": 0,
      "outputs": []
    },
    {
      "cell_type": "markdown",
      "metadata": {
        "id": "jizry0JtErHh",
        "colab_type": "text"
      },
      "source": [
        "### Neural Net"
      ]
    },
    {
      "cell_type": "code",
      "metadata": {
        "id": "s57-pBgCEGDs",
        "colab_type": "code",
        "colab": {}
      },
      "source": [
        "class DQN(nn.Module):\n",
        "  def __init__(self, in_channels, num_outputs):\n",
        "    super(DQN, self).__init__()\n",
        "    self.feature_extractor = nn.Sequential(\n",
        "        nn.Conv2d(in_channels, 32, kernel_size=8, stride=4),\n",
        "        nn.ReLU(),\n",
        "        nn.Conv2d(32, 64, kernel_size=4, stride=2),\n",
        "        nn.ReLU(),\n",
        "        nn.Conv2d(64, 64, kernel_size=3, stride=1),\n",
        "        nn.ReLU(),\n",
        "    ) \n",
        "\n",
        "    self.dense = nn.Sequential(\n",
        "        nn.Linear(64*7*7, 512),\n",
        "        nn.ReLU(),\n",
        "        nn.Linear(512, num_outputs),\n",
        "    )\n",
        "\n",
        "  def forward(self, x):\n",
        "    x = self.feature_extractor(x)\n",
        "    x = x.view(x.size(0), -1)\n",
        "    x = self.dense(x)\n",
        "    return x\n",
        "\n",
        "  def act(self, state, epsilon=0):\n",
        "    if random.random() > epsilon:\n",
        "      q_values = self.forward(state)\n",
        "      action = q_values.max(1)[1].view(1, 1)\n",
        "    else:\n",
        "      action = torch.tensor([[random.randrange(env.action_space.n)]],\n",
        "                            device=device)\n",
        "    return action\n",
        "\n"
      ],
      "execution_count": 0,
      "outputs": []
    },
    {
      "cell_type": "code",
      "metadata": {
        "id": "yyQBtRKgF5y0",
        "colab_type": "code",
        "colab": {}
      },
      "source": [
        "model = DQN(1, env.action_space.n).to(device)\n",
        "optimizer = optim.Adam(model.parameters(), lr=0.00001)\n",
        "replay_inital = 10_000\n",
        "replay_buffer = ReplayBuffer(100_000)"
      ],
      "execution_count": 0,
      "outputs": []
    },
    {
      "cell_type": "markdown",
      "metadata": {
        "id": "qFqUi_1fb7yf",
        "colab_type": "text"
      },
      "source": [
        "### Epsilon Strategy"
      ]
    },
    {
      "cell_type": "code",
      "metadata": {
        "id": "QGeCSY695iaR",
        "colab_type": "code",
        "outputId": "ee967d33-0b78-4dd6-8b60-1e68dc343436",
        "colab": {
          "base_uri": "https://localhost:8080/",
          "height": 282
        }
      },
      "source": [
        "eps_start = 1\n",
        "eps_final = 0.01\n",
        "eps_decay = 30_000\n",
        "\n",
        "eps = lambda i: eps_final + (eps_start - eps_final) * math.exp(-1. * i / eps_decay)\n",
        "\n",
        "plt.plot([eps(i) for i in range(1_000_000)])"
      ],
      "execution_count": 0,
      "outputs": [
        {
          "output_type": "execute_result",
          "data": {
            "text/plain": [
              "[<matplotlib.lines.Line2D at 0x7fe9b5340358>]"
            ]
          },
          "metadata": {
            "tags": []
          },
          "execution_count": 9
        },
        {
          "output_type": "display_data",
          "data": {
            "image/png": "[encoded data removed]",
            "text/plain": [
              "<Figure size 432x288 with 1 Axes>"
            ]
          },
          "metadata": {
            "tags": []
          }
        }
      ]
    },
    {
      "cell_type": "markdown",
      "metadata": {
        "id": "JAhbJmg06455",
        "colab_type": "text"
      },
      "source": [
        "### Training"
      ]
    },
    {
      "cell_type": "code",
      "metadata": {
        "id": "OIb4ukllN08z",
        "colab_type": "code",
        "colab": {}
      },
      "source": [
        "def plot(frame_idx, rewards, losses):\n",
        "    clear_output(True)\n",
        "    plt.figure(figsize=(20,5))\n",
        "    plt.subplot(131)\n",
        "    plt.title('frame %s. reward: %s' % (frame_idx, np.mean(rewards[-10:])))\n",
        "    plt.plot(rewards)\n",
        "    plt.subplot(132)\n",
        "    plt.title('loss')\n",
        "    plt.plot(losses)\n",
        "    plt.show()"
      ],
      "execution_count": 0,
      "outputs": []
    },
    {
      "cell_type": "code",
      "metadata": {
        "id": "Enjq3RSV9w-t",
        "colab_type": "code",
        "colab": {}
      },
      "source": [
        "def optimize(batch_size):\n",
        "  state, action, next_state, reward, done = replay_buffer.sample(batch_size)\n",
        "\n",
        "  q_values = model(state).gather(1, action)\n",
        "  next_q_values = model(next_state).max(1)[0]\n",
        "  expected_q_values = reward + gamma * next_q_values * (~ done)\n",
        "\n",
        "  loss = F.smooth_l1_loss(q_values, next_q_values)\n",
        "\n",
        "  optimizer.zero_grad()\n",
        "  loss.backward()\n",
        "\n",
        "  # Clip gradients \n",
        "  #for param in policy_net.parameters():\n",
        "  #    param.grad.data.clamp_(-1, 1)\n",
        "\n",
        "  optimizer.step()\n",
        "\n",
        "  return loss"
      ],
      "execution_count": 0,
      "outputs": []
    },
    {
      "cell_type": "code",
      "metadata": {
        "id": "8tkaul2j6QB3",
        "colab_type": "code",
        "outputId": "6e835454-6162-4bc0-dc96-0259f5a4ed5e",
        "colab": {
          "base_uri": "https://localhost:8080/",
          "height": 336
        }
      },
      "source": [
        "num_frames = 1_400_000\n",
        "batch_size = 32\n",
        "gamma = 0.99\n",
        "\n",
        "losses = []\n",
        "rewards = []\n",
        "episode_reward = 0\n",
        "\n",
        "state = proccess_screen(env.reset())\n",
        "\n",
        "for i in range(1, num_frames + 1):\n",
        "  action = model.act(state, epsilon=eps(i))\n",
        "\n",
        "  next_state, reward, done, _ = env.step(action)\n",
        "  episode_reward += reward\n",
        "  next_state = proccess_screen(next_state)\n",
        "  reward = torch.tensor([reward], device=device)\n",
        "  done = torch.tensor([done], device=device)\n",
        "  replay_buffer.push(state, action, next_state, reward, done)\n",
        "  state = next_state\n",
        "\n",
        "  if done:\n",
        "    state = proccess_screen(env.reset())\n",
        "    rewards.append(episode_reward)\n",
        "    episode_reward = 0\n",
        "\n",
        "  if len(replay_buffer) > replay_inital:\n",
        "    loss = optimize(batch_size)\n",
        "    losses.append(loss.item())\n",
        "\n",
        "  if i % 10_000 == 0:\n",
        "    plot(i, rewards, losses)"
      ],
      "execution_count": 0,
      "outputs": [
        {
          "output_type": "display_data",
          "data": {
            "image/png": "[encoded data removed]",
            "text/plain": [
              "<Figure size 1440x360 with 2 Axes>"
            ]
          },
          "metadata": {
            "tags": []
          }
        }
      ]
    },
    {
      "cell_type": "code",
      "metadata": {
        "id": "H8urVuSUAQws",
        "colab_type": "code",
        "colab": {}
      },
      "source": [
        ""
      ],
      "execution_count": 0,
      "outputs": []
    },
    {
      "cell_type": "code",
      "metadata": {
        "id": "ByxzgEi_A3ah",
        "colab_type": "code",
        "colab": {}
      },
      "source": [
        ""
      ],
      "execution_count": 0,
      "outputs": []
    },
    {
      "cell_type": "code",
      "metadata": {
        "id": "Pda4zOhbapHp",
        "colab_type": "code",
        "colab": {}
      },
      "source": [
        ""
      ],
      "execution_count": 0,
      "outputs": []
    }
  ]
}