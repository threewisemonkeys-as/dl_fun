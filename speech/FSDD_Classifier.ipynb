{
  "nbformat": 4,
  "nbformat_minor": 0,
  "metadata": {
    "kernelspec": {
      "name": "python3",
      "display_name": "Python 3"
    },
    "language_info": {
      "codemirror_mode": {
        "name": "ipython",
        "version": 3
      },
      "file_extension": ".py",
      "mimetype": "text/x-python",
      "name": "python",
      "nbconvert_exporter": "python",
      "pygments_lexer": "ipython3",
      "version": "3.7.5"
    },
    "colab": {
      "name": "FSDD Classifier.ipynb",
      "provenance": [],
      "include_colab_link": true
    },
    "accelerator": "GPU"
  },
  "cells": [
    {
      "cell_type": "markdown",
      "metadata": {
        "id": "view-in-github",
        "colab_type": "text"
      },
      "source": [
        "<a href=\"https://colab.research.google.com/github/threewisemonkeys-as/dl_fun/blob/master/speech/FSDD_Classifier.ipynb\" target=\"_parent\"><img src=\"https://colab.research.google.com/assets/colab-badge.svg\" alt=\"Open In Colab\"/></a>"
      ]
    },
    {
      "cell_type": "code",
      "metadata": {
        "id": "7VayTy6kwEY7",
        "colab_type": "code",
        "outputId": "0b694755-dc12-4993-bb1c-4d5b3196c1f4",
        "colab": {
          "base_uri": "https://localhost:8080/",
          "height": 85
        }
      },
      "source": [
        "import os\n",
        "import random\n",
        "\n",
        "import torch\n",
        "import torch.optim as optim\n",
        "from torch.utils.data import Dataset, DataLoader\n",
        "\n",
        "import torchaudio\n",
        "import torchaudio.transforms as AT\n",
        "\n",
        "import torchvision\n",
        "from torchvision import utils\n",
        "import torchvision.transforms as VT\n",
        "import torchvision.transforms.functional as VTF\n",
        "\n",
        "import torch.nn as nn\n",
        "import torch.nn.functional as nnF\n",
        "\n",
        "import matplotlib\n",
        "import matplotlib.pyplot as plt\n",
        "\n",
        "import librosa\n",
        "import librosa.display as librosa_display\n",
        "\n",
        "import numpy as np\n",
        "import cv2\n",
        "\n",
        "is_ipython = 'inline' in matplotlib.get_backend()\n",
        "if is_ipython:\n",
        "    from IPython.core.debugger import set_trace\n",
        "    from IPython import display\n",
        "plt.ion()\n",
        "\n",
        "device = torch.device(\"cuda\" if torch.cuda.is_available() else \"cpu\")\n",
        "device"
      ],
      "execution_count": 0,
      "outputs": [
        {
          "output_type": "stream",
          "text": [
            "Requirement already satisfied: torchaudio in /usr/local/lib/python3.6/dist-packages (0.3.1)\n",
            "Requirement already satisfied: torch==1.3.0 in /usr/local/lib/python3.6/dist-packages (from torchaudio) (1.3.0)\n",
            "Requirement already satisfied: numpy in /usr/local/lib/python3.6/dist-packages (from torch==1.3.0->torchaudio) (1.17.4)\n"
          ],
          "name": "stdout"
        },
        {
          "output_type": "execute_result",
          "data": {
            "text/plain": [
              "device(type='cuda')"
            ]
          },
          "metadata": {
            "tags": []
          },
          "execution_count": 1
        }
      ]
    },
    {
      "cell_type": "code",
      "metadata": {
        "id": "IogLfLNzwEZA",
        "colab_type": "code",
        "colab": {}
      },
      "source": [
        "class FSDD(Dataset):\n",
        "    \"\"\"Free Spoken Digit Dataset.\"\"\"\n",
        "    \n",
        "    def __init__(self, root_dir, spec=False):\n",
        "        \"\"\"\n",
        "        Args:\n",
        "            root_dir (string): path of directory containing all wav files\n",
        "        \"\"\"\n",
        "        self.root_dir = root_dir\n",
        "        self.file_list = next(os.walk(self.root_dir))[2]\n",
        "        self.spec=spec\n",
        "        \n",
        "    def __len__(self):\n",
        "        self.file_list = next(os.walk(self.root_dir))[2]\n",
        "        return len(self.file_list)\n",
        "    \n",
        "    def __getitem__(self, idx):\n",
        "        if torch.is_tensor(idx):\n",
        "            idx = idx.tolist()\n",
        "            \n",
        "        file_path = os.path.join(self.root_dir, self.file_list[idx])\n",
        "        label = torch.tensor(int(file_path.split('/')[-1].split('_')[0]), dtype=torch.long, device=device)\n",
        "\n",
        "        #speaker = torch.tensor(file_path.split('/')[-1].split('_')[1], device=device)\n",
        "        \n",
        "        waveform, sample_rate = torchaudio.load(file_path)\n",
        "        if self.spec:\n",
        "            waveform = librosa.amplitude_to_db(np.abs(librosa.stft(waveform.squeeze(0).numpy(), n_fft=512)), ref=np.max)\n",
        "            waveform = torch.tensor(cv2.resize(waveform, dsize=(256, 256), interpolation=cv2.INTER_CUBIC), device=device).unsqueeze(0)\n",
        "        \n",
        "        item = {'waveform': waveform, 'label': label}#, 'speaker': speaker}\n",
        "\n",
        "        #waveform, sample_rate = librosa.load(file_path)\n",
        "        #item = {'waveform': waveform, 'label': label}#, 'speaker': speaker}\n",
        "        \n",
        "        return item\n"
      ],
      "execution_count": 0,
      "outputs": []
    },
    {
      "cell_type": "code",
      "metadata": {
        "id": "YgN2OP2GwEZD",
        "colab_type": "code",
        "outputId": "7160211b-908d-4ef6-cf32-065976f467f2",
        "colab": {
          "base_uri": "https://localhost:8080/",
          "height": 350
        }
      },
      "source": [
        "digit_dataset = FSDD(root_dir='./data/recordings/')\n",
        "plt.figure(figsize=(5,5))\n",
        "\n",
        "for i in range(4):\n",
        "    sample = digit_dataset[random.randrange(len(digit_dataset))]\n",
        "    print(\"Shape of waveform: {}\".format(sample['waveform'].size()))\n",
        "    ax = plt.subplot(2, 2, i + 1)\n",
        "    plt.tight_layout()\n",
        "    ax.set_title(f\"Label: {sample['label']}\", color='g')\n",
        "    plt.plot(sample['waveform'].t().numpy())\n",
        "\n",
        "plt.show()"
      ],
      "execution_count": 0,
      "outputs": [
        {
          "output_type": "error",
          "ename": "StopIteration",
          "evalue": "ignored",
          "traceback": [
            "\u001b[0;31m---------------------------------------------------------------------------\u001b[0m",
            "\u001b[0;31mStopIteration\u001b[0m                             Traceback (most recent call last)",
            "\u001b[0;32m<ipython-input-3-fb78ade974d7>\u001b[0m in \u001b[0;36m<module>\u001b[0;34m()\u001b[0m\n\u001b[0;32m----> 1\u001b[0;31m \u001b[0mdigit_dataset\u001b[0m \u001b[0;34m=\u001b[0m \u001b[0mFSDD\u001b[0m\u001b[0;34m(\u001b[0m\u001b[0mroot_dir\u001b[0m\u001b[0;34m=\u001b[0m\u001b[0;34m'./data/recordings/'\u001b[0m\u001b[0;34m)\u001b[0m\u001b[0;34m\u001b[0m\u001b[0;34m\u001b[0m\u001b[0m\n\u001b[0m\u001b[1;32m      2\u001b[0m \u001b[0mplt\u001b[0m\u001b[0;34m.\u001b[0m\u001b[0mfigure\u001b[0m\u001b[0;34m(\u001b[0m\u001b[0mfigsize\u001b[0m\u001b[0;34m=\u001b[0m\u001b[0;34m(\u001b[0m\u001b[0;36m5\u001b[0m\u001b[0;34m,\u001b[0m\u001b[0;36m5\u001b[0m\u001b[0;34m)\u001b[0m\u001b[0;34m)\u001b[0m\u001b[0;34m\u001b[0m\u001b[0;34m\u001b[0m\u001b[0m\n\u001b[1;32m      3\u001b[0m \u001b[0;34m\u001b[0m\u001b[0m\n\u001b[1;32m      4\u001b[0m \u001b[0;32mfor\u001b[0m \u001b[0mi\u001b[0m \u001b[0;32min\u001b[0m \u001b[0mrange\u001b[0m\u001b[0;34m(\u001b[0m\u001b[0;36m4\u001b[0m\u001b[0;34m)\u001b[0m\u001b[0;34m:\u001b[0m\u001b[0;34m\u001b[0m\u001b[0;34m\u001b[0m\u001b[0m\n\u001b[1;32m      5\u001b[0m     \u001b[0msample\u001b[0m \u001b[0;34m=\u001b[0m \u001b[0mdigit_dataset\u001b[0m\u001b[0;34m[\u001b[0m\u001b[0mrandom\u001b[0m\u001b[0;34m.\u001b[0m\u001b[0mrandrange\u001b[0m\u001b[0;34m(\u001b[0m\u001b[0mlen\u001b[0m\u001b[0;34m(\u001b[0m\u001b[0mdigit_dataset\u001b[0m\u001b[0;34m)\u001b[0m\u001b[0;34m)\u001b[0m\u001b[0;34m]\u001b[0m\u001b[0;34m\u001b[0m\u001b[0;34m\u001b[0m\u001b[0m\n",
            "\u001b[0;32m<ipython-input-2-e655eb4252ac>\u001b[0m in \u001b[0;36m__init__\u001b[0;34m(self, root_dir, spec)\u001b[0m\n\u001b[1;32m      8\u001b[0m         \"\"\"\n\u001b[1;32m      9\u001b[0m         \u001b[0mself\u001b[0m\u001b[0;34m.\u001b[0m\u001b[0mroot_dir\u001b[0m \u001b[0;34m=\u001b[0m \u001b[0mroot_dir\u001b[0m\u001b[0;34m\u001b[0m\u001b[0;34m\u001b[0m\u001b[0m\n\u001b[0;32m---> 10\u001b[0;31m         \u001b[0mself\u001b[0m\u001b[0;34m.\u001b[0m\u001b[0mfile_list\u001b[0m \u001b[0;34m=\u001b[0m \u001b[0mnext\u001b[0m\u001b[0;34m(\u001b[0m\u001b[0mos\u001b[0m\u001b[0;34m.\u001b[0m\u001b[0mwalk\u001b[0m\u001b[0;34m(\u001b[0m\u001b[0mself\u001b[0m\u001b[0;34m.\u001b[0m\u001b[0mroot_dir\u001b[0m\u001b[0;34m)\u001b[0m\u001b[0;34m)\u001b[0m\u001b[0;34m[\u001b[0m\u001b[0;36m2\u001b[0m\u001b[0;34m]\u001b[0m\u001b[0;34m\u001b[0m\u001b[0;34m\u001b[0m\u001b[0m\n\u001b[0m\u001b[1;32m     11\u001b[0m         \u001b[0mself\u001b[0m\u001b[0;34m.\u001b[0m\u001b[0mspec\u001b[0m\u001b[0;34m=\u001b[0m\u001b[0mspec\u001b[0m\u001b[0;34m\u001b[0m\u001b[0;34m\u001b[0m\u001b[0m\n\u001b[1;32m     12\u001b[0m \u001b[0;34m\u001b[0m\u001b[0m\n",
            "\u001b[0;31mStopIteration\u001b[0m: "
          ]
        }
      ]
    },
    {
      "cell_type": "code",
      "metadata": {
        "id": "B2Cl5rAjwEZI",
        "colab_type": "code",
        "colab": {}
      },
      "source": [
        "digit_dataset = FSDD(root_dir='./data/recordings/', spec=True)\n",
        "dataloader = DataLoader(digit_dataset, batch_size=4, shuffle=True, num_workers=4)\n",
        "\n",
        "for i_batch, batch in enumerate(dataloader):\n",
        "    plt.imshow(batch['waveform'][0].squeeze(0).numpy())\n",
        "    plt.suptitle(f\"Label: {batch['label'][0]}\", color='r')       \n",
        "    break\n",
        "\n"
      ],
      "execution_count": 0,
      "outputs": []
    },
    {
      "cell_type": "code",
      "metadata": {
        "id": "arWk-4IlwEZM",
        "colab_type": "code",
        "colab": {}
      },
      "source": [
        "class Net(nn.Module):\n",
        "    def __init__(self):\n",
        "        super(Net, self).__init__()\n",
        "        \n",
        "        self.feature_extractor = nn.Sequential(\n",
        "            nn.Conv2d(in_channels=1, out_channels=8, kernel_size=3, padding=1), # 1x256x256 --> 8x256x256\n",
        "            nn.ReLU(),\n",
        "            nn.MaxPool2d(2, 2), # 8x256x256 --> 8x128x128\n",
        "            nn.Conv2d(8, 16, 3, padding=1), # 8x128x128 --> 16x128x128\n",
        "            nn.ReLU(),\n",
        "            nn.MaxPool2d(2, 2), # 16x128x128 --> 16x64x64\n",
        "            nn.Conv2d(16, 32, 3, padding=1), # 16x64x64 --> 32x64x64\n",
        "            nn.ReLU(),\n",
        "            nn.MaxPool2d(2, 2), # 32x64x64 --> 32x32x32\n",
        "            nn.Conv2d(32, 64, 3, padding=1), # 32x32x32 --> 64x32x32\n",
        "            nn.ReLU(),\n",
        "            nn.MaxPool2d(2, 2), # 64x32x32 --> 64x16x16\n",
        "        )\n",
        "        \n",
        "        self.dense = nn.Sequential(\n",
        "            nn.Linear(64 * 16 * 16, 256),\n",
        "            nn.Linear(256, 64),\n",
        "            nn.Linear(64, 10),\n",
        "        )\n",
        "        \n",
        "        \n",
        "    def forward(self, x):\n",
        "        x = self.feature_extractor(x)\n",
        "        x = x.view(x.size(0), -1)\n",
        "        x = self.dense(x)\n",
        "        return x"
      ],
      "execution_count": 0,
      "outputs": []
    },
    {
      "cell_type": "code",
      "metadata": {
        "id": "tHLdTzFXwEZP",
        "colab_type": "code",
        "colab": {}
      },
      "source": [
        "def train(classifier, data, criterion_type, optimizer_type, \n",
        "          BATCH_SIZE=1, LEARNING_RATE=0.001, VERBOSE=False):\n",
        "    dataloader = DataLoader(digit_dataset, batch_size=BATCH_SIZE, shuffle=True, num_workers=4)\n",
        "    criterion = criterion_type().to(device)\n",
        "    optimizer = optimizer_type(classifier.parameters(), lr=LEARNING_RATE)\n",
        "    \n",
        "    losses = []\n",
        "    n = len(dataloader)\n",
        "    \n",
        "    for i_episode, sample_batch in enumerate(dataloader):\n",
        "        optimizer.zero_grad()\n",
        "    \n",
        "        prediction = classifier(sample_batch['waveform'])\n",
        "        loss = criterion(prediction, sample_batch['label'])\n",
        "        loss.backward()\n",
        "        losses.append(loss.item())\n",
        "        optimizer.step()    \n",
        "        \n",
        "        if (i_episode+1) % (n/10) == 0 and VERBOSE:\n",
        "            print(f\"Episode {i_episode + 1} / {n} | Running Loss of last {n // 20} = {(sum(losses[-(n//20):]) / len(losses[-(n//20):])):.1f}\")\n",
        "\n",
        "        \n",
        "    print(f\"\\nComplete!\")\n",
        "    plt.plot(losses)"
      ],
      "execution_count": 0,
      "outputs": []
    },
    {
      "cell_type": "code",
      "metadata": {
        "id": "hCOPvul6wEZT",
        "colab_type": "code",
        "outputId": "74b3ef29-ff00-49e5-a873-9b9877c8ce0f",
        "colab": {}
      },
      "source": [
        "train(classifier=Net().to(device),\n",
        "      data=digit_dataset,\n",
        "      criterion_type=nn.CrossEntropyLoss,\n",
        "      optimizer_type=optim.Adam,\n",
        "      BATCH_SIZE=4,\n",
        "      LEARNING_RATE=0.001,\n",
        "      VERBOSE=True,\n",
        "     )"
      ],
      "execution_count": 0,
      "outputs": [
        {
          "output_type": "stream",
          "text": [
            "Episode 50 / 500 | Running Loss of last 25 = 8148.7\n",
            "Episode 100 / 500 | Running Loss of last 25 = 5035.0\n",
            "Episode 150 / 500 | Running Loss of last 25 = 1277.9\n",
            "Episode 200 / 500 | Running Loss of last 25 = 43.0\n",
            "Episode 250 / 500 | Running Loss of last 25 = 29.6\n",
            "Episode 300 / 500 | Running Loss of last 25 = 17.1\n",
            "Episode 350 / 500 | Running Loss of last 25 = 65.7\n",
            "Episode 400 / 500 | Running Loss of last 25 = 25.2\n",
            "Episode 450 / 500 | Running Loss of last 25 = 17.5\n",
            "Episode 500 / 500 | Running Loss of last 25 = 21.7\n",
            "\n",
            "Complete!\n"
          ],
          "name": "stdout"
        },
        {
          "output_type": "display_data",
          "data": {
            "image/png": "[encoded data removed]",
            "text/plain": [
              "<Figure size 432x288 with 1 Axes>"
            ]
          },
          "metadata": {
            "tags": [],
            "needs_background": "light"
          }
        }
      ]
    },
    {
      "cell_type": "code",
      "metadata": {
        "id": "7guyfuEswEZW",
        "colab_type": "code",
        "colab": {}
      },
      "source": [
        ""
      ],
      "execution_count": 0,
      "outputs": []
    },
    {
      "cell_type": "code",
      "metadata": {
        "id": "Y8WRlohGwEZZ",
        "colab_type": "code",
        "colab": {}
      },
      "source": [
        ""
      ],
      "execution_count": 0,
      "outputs": []
    }
  ]
}