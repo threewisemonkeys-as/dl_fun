{
  "nbformat": 4,
  "nbformat_minor": 0,
  "metadata": {
    "colab": {
      "name": "Siamese_Oneshot_with_Transfer_Learning.ipynb",
      "provenance": [],
      "collapsed_sections": [],
      "include_colab_link": true
    },
    "kernelspec": {
      "name": "python3",
      "display_name": "Python 3"
    },
    "accelerator": "GPU"
  },
  "cells": [
    {
      "cell_type": "markdown",
      "metadata": {
        "id": "view-in-github",
        "colab_type": "text"
      },
      "source": [
        "<a href=\"https://colab.research.google.com/github/threewisemonkeys-as/dl_fun/blob/master/oneshot_learning/Siamese_Oneshot_with_Transfer_Learning.ipynb\" target=\"_parent\"><img src=\"https://colab.research.google.com/assets/colab-badge.svg\" alt=\"Open In Colab\"/></a>"
      ]
    },
    {
      "cell_type": "code",
      "metadata": {
        "id": "7nthCCDnlbDc",
        "colab_type": "code",
        "outputId": "e6f471e0-c328-4044-d17e-f4fdcf0821cb",
        "colab": {
          "base_uri": "https://localhost:8080/",
          "height": 34
        }
      },
      "source": [
        "import os\n",
        "import random\n",
        "\n",
        "import torch\n",
        "from torch.autograd import Variable\n",
        "import torch.optim as optim\n",
        "import torch.nn as nn\n",
        " \n",
        "import torchvision\n",
        "import torchvision.transforms as T\n",
        "from torchvision.datasets import Omniglot\n",
        "\n",
        "import matplotlib\n",
        "\n",
        "import matplotlib.pyplot as plt\n",
        "\n",
        "is_ipython = 'inline' in matplotlib.get_backend()\n",
        "if is_ipython:\n",
        "    from IPython.core.debugger import set_trace\n",
        "    from IPython import display\n",
        "plt.ion()\n",
        "\n",
        "device = torch.device(\"cuda\" if torch.cuda.is_available() else \"cpu\")\n",
        "device"
      ],
      "execution_count": 0,
      "outputs": [
        {
          "output_type": "execute_result",
          "data": {
            "text/plain": [
              "device(type='cuda')"
            ]
          },
          "metadata": {
            "tags": []
          },
          "execution_count": 1
        }
      ]
    },
    {
      "cell_type": "code",
      "metadata": {
        "id": "J9peh-Sklg80",
        "colab_type": "code",
        "outputId": "14208490-da6b-487c-8c49-46db279c046e",
        "colab": {
          "base_uri": "https://localhost:8080/",
          "height": 156
        }
      },
      "source": [
        "background = Omniglot('omniglot/', background=True, download=True)\n",
        "evaluation = Omniglot('omniglot/', background=False, download=True)\n",
        "print(len(background), len(evaluation))"
      ],
      "execution_count": 0,
      "outputs": [
        {
          "output_type": "stream",
          "text": [
            "\r0it [00:00, ?it/s]"
          ],
          "name": "stderr"
        },
        {
          "output_type": "stream",
          "text": [
            "Downloading https://github.com/brendenlake/omniglot/raw/master/python/images_background.zip to omniglot/omniglot-py/images_background.zip\n"
          ],
          "name": "stdout"
        },
        {
          "output_type": "stream",
          "text": [
            "9469952it [00:01, 5924950.00it/s]          \n"
          ],
          "name": "stderr"
        },
        {
          "output_type": "stream",
          "text": [
            "Extracting omniglot/omniglot-py/images_background.zip to omniglot/omniglot-py\n"
          ],
          "name": "stdout"
        },
        {
          "output_type": "stream",
          "text": [
            "\r0it [00:00, ?it/s]"
          ],
          "name": "stderr"
        },
        {
          "output_type": "stream",
          "text": [
            "Downloading https://github.com/brendenlake/omniglot/raw/master/python/images_evaluation.zip to omniglot/omniglot-py/images_evaluation.zip\n"
          ],
          "name": "stdout"
        },
        {
          "output_type": "stream",
          "text": [
            "6463488it [00:01, 4078621.37it/s]                              \n"
          ],
          "name": "stderr"
        },
        {
          "output_type": "stream",
          "text": [
            "Extracting omniglot/omniglot-py/images_evaluation.zip to omniglot/omniglot-py\n",
            "19280 13180\n"
          ],
          "name": "stdout"
        }
      ]
    },
    {
      "cell_type": "code",
      "metadata": {
        "id": "zBd5iU6flj3j",
        "colab_type": "code",
        "outputId": "7c62a9ad-67e6-424b-cb84-e320bebcbc09",
        "colab": {
          "base_uri": "https://localhost:8080/",
          "height": 383
        }
      },
      "source": [
        "\n",
        "plt.figure(figsize=(5,5))\n",
        "sample = background[random.randrange(len(background))]\n",
        "print(f\"Shape of Input: {sample[0].size}\")\n",
        "\n",
        "for i in range(4):\n",
        "    sample = background[random.randrange(len(background))]\n",
        "    ax = plt.subplot(2, 2, i + 1)\n",
        "    plt.tight_layout()\n",
        "    ax.set_title(f\"Label: {sample[1]}\", color='g')\n",
        "    plt.imshow(sample[0])\n",
        "\n",
        "plt.show()"
      ],
      "execution_count": 0,
      "outputs": [
        {
          "output_type": "stream",
          "text": [
            "Shape of Input: (105, 105)\n"
          ],
          "name": "stdout"
        },
        {
          "output_type": "display_data",
          "data": {
            "image/png": "[encoded data removed]",
            "text/plain": [
              "<Figure size 360x360 with 4 Axes>"
            ]
          },
          "metadata": {
            "tags": []
          }
        }
      ]
    },
    {
      "cell_type": "code",
      "metadata": {
        "id": "yFQa1-aIqfN1",
        "colab_type": "code",
        "colab": {}
      },
      "source": [
        "def get_output_shape(input_shape, module, batch_size=1):\n",
        "    dummy_input = Variable(torch.rand(batch_size, *input_shape, device=device))\n",
        "    output_feat = module(dummy_input)\n",
        "    n_size = output_feat.data.view(batch_size, -1).size(1)\n",
        "    return n_size\n"
      ],
      "execution_count": 0,
      "outputs": []
    },
    {
      "cell_type": "code",
      "metadata": {
        "id": "HZXC1hYsqNA4",
        "colab_type": "code",
        "colab": {}
      },
      "source": [
        "class Net(nn.Module):\n",
        "\n",
        "  def __init__(self, input_shape):\n",
        "      super(Net, self).__init__()\n",
        "\n",
        "      self.feature_extractor = nn.Sequential(\n",
        "              nn.Conv2d(in_channels=1, out_channels=32, kernel_size=5), # 1x28x28 --> 32x24x24\n",
        "              nn.ReLU(),\n",
        "              nn.MaxPool2d(2, 2), # 32x24x24 --> 32x12x12\n",
        "              nn.Conv2d(in_channels=32, out_channels=64, kernel_size=3, padding=1), # 32x12x12 --> 64x12x12\n",
        "              nn.ReLU(),\n",
        "              nn.MaxPool2d(2, 2), # 64x12x12 --> 64x6x6\n",
        "              nn.Conv2d(in_channels=64, out_channels=128, kernel_size=3, padding=1), # 64x6x6 --> 128x6x6\n",
        "              nn.ReLU(),\n",
        "              nn.MaxPool2d(2, 2), # 128x6x6 --> 128x3x3\n",
        "              nn.Conv2d(in_channels=128, out_channels=256, kernel_size=3), # 128x3x3 --> 256x1x1\n",
        "          )\n",
        "      \n",
        "      n_size = get_output_shape(input_shape, module=self.feature_extractor)\n",
        "      \n",
        "      self.dense = nn.Sequential(\n",
        "              nn.Linear(n_size, 1024),\n",
        "              nn.Linear(1024, 10),\n",
        "          )\n",
        "\n",
        "  def forward(self, x):\n",
        "      features = self.feature_extractor(x)\n",
        "      features = features.view(features.size(0), -1)\n",
        "      predictions = self.dense(features)\n",
        "\n",
        "      return predictions\n"
      ],
      "execution_count": 0,
      "outputs": []
    },
    {
      "cell_type": "code",
      "metadata": {
        "id": "vu1YNicxn7ce",
        "colab_type": "code",
        "outputId": "ba53d199-107e-443f-c9a7-37be4f203a45",
        "colab": {
          "base_uri": "https://localhost:8080/",
          "height": 54
        }
      },
      "source": [
        "from google.colab import drive\n",
        "drive.mount('/content/drive')"
      ],
      "execution_count": 0,
      "outputs": [
        {
          "output_type": "stream",
          "text": [
            "Drive already mounted at /content/drive; to attempt to forcibly remount, call drive.mount(\"/content/drive\", force_remount=True).\n"
          ],
          "name": "stdout"
        }
      ]
    },
    {
      "cell_type": "code",
      "metadata": {
        "id": "kKU_Oce3n9iS",
        "colab_type": "code",
        "outputId": "40277417-795d-49ca-8a0a-091f701ac2cb",
        "colab": {
          "base_uri": "https://localhost:8080/",
          "height": 343
        }
      },
      "source": [
        "classifier = Net((1, 28, 28))\n",
        "classifier.load_state_dict(torch.load('/content/drive/My Drive/dl/mnist_classifier.pth'))\n",
        "classifier.to(device)\n",
        "classifier"
      ],
      "execution_count": 0,
      "outputs": [
        {
          "output_type": "execute_result",
          "data": {
            "text/plain": [
              "Net(\n",
              "  (feature_extractor): Sequential(\n",
              "    (0): Conv2d(1, 32, kernel_size=(5, 5), stride=(1, 1))\n",
              "    (1): ReLU()\n",
              "    (2): MaxPool2d(kernel_size=2, stride=2, padding=0, dilation=1, ceil_mode=False)\n",
              "    (3): Conv2d(32, 64, kernel_size=(3, 3), stride=(1, 1), padding=(1, 1))\n",
              "    (4): ReLU()\n",
              "    (5): MaxPool2d(kernel_size=2, stride=2, padding=0, dilation=1, ceil_mode=False)\n",
              "    (6): Conv2d(64, 128, kernel_size=(3, 3), stride=(1, 1), padding=(1, 1))\n",
              "    (7): ReLU()\n",
              "    (8): MaxPool2d(kernel_size=2, stride=2, padding=0, dilation=1, ceil_mode=False)\n",
              "    (9): Conv2d(128, 256, kernel_size=(3, 3), stride=(1, 1))\n",
              "  )\n",
              "  (dense): Sequential(\n",
              "    (0): Linear(in_features=256, out_features=1024, bias=True)\n",
              "    (1): Linear(in_features=1024, out_features=10, bias=True)\n",
              "  )\n",
              ")"
            ]
          },
          "metadata": {
            "tags": []
          },
          "execution_count": 19
        }
      ]
    },
    {
      "cell_type": "code",
      "metadata": {
        "id": "lM2h7GCVopqe",
        "colab_type": "code",
        "colab": {}
      },
      "source": [
        "class Siamese(nn.Module):\n",
        "    \n",
        "    def __init__(self, input_shape):\n",
        "        super(Siamese, self).__init__()\n",
        "        \n",
        "        self.input_shape = input_shape\n",
        "        \n",
        "    def forward(self, x, y):\n",
        "        x = self.feature_extractor(x)\n",
        "        x = x.view(x.size(0), -1)\n",
        "        encoded_x = self.common_dense(x)\n",
        "        \n",
        "        y = self.feature_extractor(y)\n",
        "        y = y.view(y.size(0), -1)\n",
        "        encoded_y = self.common_dense(y)\n",
        "        \n",
        "        diff = self.abs_diff(encoded_x, encoded_y)\n",
        "        \n",
        "        prediction = self.final_dense(diff)\n",
        "\n",
        "        return prediction"
      ],
      "execution_count": 0,
      "outputs": []
    },
    {
      "cell_type": "code",
      "metadata": {
        "id": "iXumgsA8vryX",
        "colab_type": "code",
        "colab": {}
      },
      "source": [
        "def get_batch(data, BATCH_SIZE):\n",
        "    n = len(data)\n",
        "\n",
        "    transform = T.Compose([\n",
        "        T.Resize((28, 28)),\n",
        "        T.ToTensor(),\n",
        "    ])\n",
        "\n",
        "    _, h, w = transform(data[0][0]).shape\n",
        "    \n",
        "    pairs = [torch.zeros((BATCH_SIZE, 1, h, w), device=device) for _ in range(2)]\n",
        "    targets = torch.zeros((BATCH_SIZE, 1), device=device)\n",
        "    \n",
        "    for i in range(BATCH_SIZE):\n",
        "        idx = random.randrange(n)\n",
        "        dx = data[idx]\n",
        "        ndx = dx[1]\n",
        "        pairs[0][i, :, :, :] = transform(dx[0]).unsqueeze(0)\n",
        "\n",
        "        if i < (BATCH_SIZE // 2):\n",
        "            targets[i] = 1\n",
        "            idy = random.randrange(20*ndx, 20*(ndx + 1))\n",
        "        else:\n",
        "            targets[i] = 0\n",
        "            idy = random.randrange(n)\n",
        "        \n",
        "        pairs[1][i, :, :, :] = transform(data[idy][0]).unsqueeze(0)\n",
        "    \n",
        "    return pairs, targets\n",
        "    \n",
        "\n",
        "def get_oneshot_task(data, N):\n",
        "    n = len(data)\n",
        "\n",
        "    transform = T.Compose([\n",
        "        T.Resize((28, 28)),\n",
        "        T.ToTensor(),\n",
        "    ])\n",
        "\n",
        "    _, h, w = transform(data[0][0]).shape\n",
        "\n",
        "\n",
        "        \n",
        "    idx = random.randrange(n)\n",
        "    sample = transform(data[idx][0]).unsqueeze(0).repeat(N, 1, 1, 1)\n",
        "    ndx = data[idx][1]\n",
        "\n",
        "    group = torch.zeros((N, 1, h, w), device=device)\n",
        "\n",
        "    idy = random.randrange(20*ndx, 20*(ndx + 1))\n",
        "    group[0, :, :, :] = transform(data[idy][0]).unsqueeze(0)\n",
        "\n",
        "    for i in range(1, N - 1):\n",
        "      idy = random.randrange(n)\n",
        "      while 20*ndx <= idy and idy < 20*(ndx + 1):\n",
        "        idy = random.randrange(n)\n",
        "      group[i, :, :, :] = transform(data[idy][0]).unsqueeze(0)\n",
        "\n",
        "    \n",
        "    return sample.to(device), group\n",
        "\n",
        "def test_n_way_accuracy(classifier, data, ITERATIONS, N=1, VERBOSE=False):\n",
        "    classifier.eval()\n",
        "\n",
        "    if VERBOSE:\n",
        "      print(\"Starting testing proccess ... \\n\")\n",
        "\n",
        "    record = []\n",
        "    n = ITERATIONS\n",
        "    \n",
        "    for i_episode in range(ITERATIONS):\n",
        "        \n",
        "        sample, group = get_oneshot_task(data, N)\n",
        "    \n",
        "        scores = classifier(sample, group)\n",
        "\n",
        "        record.append(torch.argmax(scores).item() == 0)\n",
        "        \n",
        "        if (i_episode+1) % (n/10) == 0 and VERBOSE:\n",
        "            print(f\"Episode {i_episode + 1} / {n} ({((i_episode + 1)*100) // n}%) | Running Accuracy = {(sum(record) / len(record)):.4f}\")\n",
        "\n",
        "    acc = (sum(record) / len(record))\n",
        "\n",
        "    if VERBOSE:\n",
        "      print(f\"\\nComplete! - {acc*100}% Accuracy\\n\")\n",
        "\n",
        "    return acc\n",
        "\n",
        "def train(classifier, data, criterion_type, optimizer_type, \n",
        "          ITERATIONS, BATCH_SIZE=1, LEARNING_RATE=0.001, VERBOSE=False):\n",
        "    criterion = criterion_type().to(device)\n",
        "    optimizer = optimizer_type(classifier.parameters(), lr=LEARNING_RATE)\n",
        "    classifier.train()\n",
        "    \n",
        "    print(\"Starting training proccess ... \\n\")\n",
        "\n",
        "    losses = []\n",
        "    accuracies = []\n",
        "    \n",
        "    for i_episode in range(ITERATIONS):\n",
        "        optimizer.zero_grad()\n",
        "        \n",
        "        pairs, targets = get_batch(data, BATCH_SIZE)\n",
        "    \n",
        "        prediction = classifier(*pairs)\n",
        "        loss = criterion(prediction, targets)\n",
        "        loss.backward()\n",
        "        losses.append(loss.item())\n",
        "        optimizer.step()    \n",
        "        \n",
        "        #if (i_episode+1) % (n/100) == 0 :\n",
        "        #  accuracies.append(test_n_way_accuracy(classifier, data, ITERATIONS=250, N=25))\n",
        "\n",
        "        if (i_episode+1) % (ITERATIONS/10) == 0 and VERBOSE:\n",
        "            print(f\"Episode {i_episode + 1} / {ITERATIONS} ({((i_episode + 1)*100) // ITERATIONS}%) | Running Loss of last 5% ({ITERATIONS // 20}) = {(sum(losses[-(ITERATIONS//20):]) / len(losses[-(ITERATIONS//20):])):.4f}\")\n",
        "\n",
        "        \n",
        "    print(f\"\\nComplete!\\n\")\n",
        "    plt.plot(losses)\n",
        "   # plt.plot(accuracies)"
      ],
      "execution_count": 0,
      "outputs": []
    },
    {
      "cell_type": "code",
      "metadata": {
        "id": "2Jx7nu6mtfmI",
        "colab_type": "code",
        "outputId": "de9abf29-6d89-48a7-bc24-a9e60f7630b5",
        "colab": {
          "base_uri": "https://localhost:8080/",
          "height": 411
        }
      },
      "source": [
        "input_shape = (1, 28, 28)\n",
        "s = Siamese(input_shape)\n",
        "s.feature_extractor = classifier.feature_extractor\n",
        "s.feature_extractor.requires_grad = False\n",
        "n_size = get_output_shape(input_shape, s.feature_extractor)\n",
        "s.common_dense = nn.Sequential(\n",
        "    nn.Linear(n_size, 4096),\n",
        "    nn.Sigmoid(),\n",
        ")\n",
        "s.abs_diff = lambda x, y: torch.abs(x - y)\n",
        "s.final_dense = nn.Sequential(\n",
        "    nn.Linear(4096, 1),\n",
        "    nn.Sigmoid(),\n",
        ")\n",
        "s.to(device)"
      ],
      "execution_count": 0,
      "outputs": [
        {
          "output_type": "execute_result",
          "data": {
            "text/plain": [
              "Siamese(\n",
              "  (feature_extractor): Sequential(\n",
              "    (0): Conv2d(1, 32, kernel_size=(5, 5), stride=(1, 1))\n",
              "    (1): ReLU()\n",
              "    (2): MaxPool2d(kernel_size=2, stride=2, padding=0, dilation=1, ceil_mode=False)\n",
              "    (3): Conv2d(32, 64, kernel_size=(3, 3), stride=(1, 1), padding=(1, 1))\n",
              "    (4): ReLU()\n",
              "    (5): MaxPool2d(kernel_size=2, stride=2, padding=0, dilation=1, ceil_mode=False)\n",
              "    (6): Conv2d(64, 128, kernel_size=(3, 3), stride=(1, 1), padding=(1, 1))\n",
              "    (7): ReLU()\n",
              "    (8): MaxPool2d(kernel_size=2, stride=2, padding=0, dilation=1, ceil_mode=False)\n",
              "    (9): Conv2d(128, 256, kernel_size=(3, 3), stride=(1, 1))\n",
              "  )\n",
              "  (common_dense): Sequential(\n",
              "    (0): Linear(in_features=256, out_features=4096, bias=True)\n",
              "    (1): Sigmoid()\n",
              "  )\n",
              "  (final_dense): Sequential(\n",
              "    (0): Linear(in_features=4096, out_features=1, bias=True)\n",
              "    (1): Sigmoid()\n",
              "  )\n",
              ")"
            ]
          },
          "metadata": {
            "tags": []
          },
          "execution_count": 52
        }
      ]
    },
    {
      "cell_type": "code",
      "metadata": {
        "id": "4B1TdQIAxTQ9",
        "colab_type": "code",
        "outputId": "aed384d2-5cc1-49b5-a408-5a256a824bdc",
        "colab": {
          "base_uri": "https://localhost:8080/",
          "height": 102
        }
      },
      "source": [
        "pairs, targets = get_batch(background, 2)\n",
        "preds = s(*pairs)\n",
        "print(pairs[0].shape, pairs[1].shape)\n",
        "print(preds, targets)\n",
        "print(preds.shape, targets.shape)"
      ],
      "execution_count": 0,
      "outputs": [
        {
          "output_type": "stream",
          "text": [
            "torch.Size([2, 1, 28, 28]) torch.Size([2, 1, 28, 28])\n",
            "tensor([[0.5186],\n",
            "        [0.4965]], device='cuda:0', grad_fn=<SigmoidBackward>) tensor([[1.],\n",
            "        [0.]], device='cuda:0')\n",
            "torch.Size([2, 1]) torch.Size([2, 1])\n"
          ],
          "name": "stdout"
        }
      ]
    },
    {
      "cell_type": "code",
      "metadata": {
        "id": "WlI_tWpVxgYD",
        "colab_type": "code",
        "outputId": "ca5cfe34-c6c4-4144-d332-84ca3482bd51",
        "colab": {
          "base_uri": "https://localhost:8080/",
          "height": 520
        }
      },
      "source": [
        "train(classifier=s,\n",
        "      data=background,\n",
        "      criterion_type=nn.BCELoss,\n",
        "      optimizer_type=optim.Adam,\n",
        "      ITERATIONS=20_000,\n",
        "      BATCH_SIZE=32,\n",
        "      LEARNING_RATE=0.001,\n",
        "      VERBOSE=True,\n",
        "     )"
      ],
      "execution_count": 0,
      "outputs": [
        {
          "output_type": "stream",
          "text": [
            "Starting training proccess ... \n",
            "\n",
            "Episode 1000 / 10000 (10%) | Running Loss of last 5% (500) = 0.1038\n",
            "Episode 2000 / 10000 (20%) | Running Loss of last 5% (500) = 0.1032\n",
            "Episode 3000 / 10000 (30%) | Running Loss of last 5% (500) = 0.1023\n",
            "Episode 4000 / 10000 (40%) | Running Loss of last 5% (500) = 0.1012\n",
            "Episode 5000 / 10000 (50%) | Running Loss of last 5% (500) = 0.0974\n",
            "Episode 6000 / 10000 (60%) | Running Loss of last 5% (500) = 0.0961\n",
            "Episode 7000 / 10000 (70%) | Running Loss of last 5% (500) = 0.0947\n",
            "Episode 8000 / 10000 (80%) | Running Loss of last 5% (500) = 0.0920\n",
            "Episode 9000 / 10000 (90%) | Running Loss of last 5% (500) = 0.0909\n",
            "Episode 10000 / 10000 (100%) | Running Loss of last 5% (500) = 0.0888\n",
            "\n",
            "Complete!\n",
            "\n"
          ],
          "name": "stdout"
        },
        {
          "output_type": "display_data",
          "data": {
            "image/png": "[encoded data removed]",
            "text/plain": [
              "<Figure size 432x288 with 1 Axes>"
            ]
          },
          "metadata": {
            "tags": []
          }
        }
      ]
    },
    {
      "cell_type": "code",
      "metadata": {
        "id": "bbn1rINpyWfT",
        "colab_type": "code",
        "outputId": "68cdb6bb-3b95-4a18-9803-84cc3181bbbe",
        "colab": {
          "base_uri": "https://localhost:8080/",
          "height": 826
        }
      },
      "source": [
        "accuracies = []\n",
        "for i in range(1, 11):\n",
        "    print(f\"\\nTesting {i*i} way accuracy ...\")\n",
        "    acc = test_n_way_accuracy(classifier=s, data=evaluation, ITERATIONS=500, N=i*i)\n",
        "    print(f\"Completed - {acc*100}% accuracy\")\n",
        "    accuracies.append(acc)\n",
        "\n",
        "print(f\"Complete!\\n\")\n",
        "\n",
        "plt.plot(accuracies)"
      ],
      "execution_count": 0,
      "outputs": [
        {
          "output_type": "stream",
          "text": [
            "\n",
            "Testing 1 way accuracy ...\n",
            "Completed - 100.0% accuracy\n",
            "\n",
            "Testing 4 way accuracy ...\n",
            "Completed - 93.8% accuracy\n",
            "\n",
            "Testing 9 way accuracy ...\n",
            "Completed - 89.2% accuracy\n",
            "\n",
            "Testing 16 way accuracy ...\n",
            "Completed - 81.6% accuracy\n",
            "\n",
            "Testing 25 way accuracy ...\n",
            "Completed - 74.8% accuracy\n",
            "\n",
            "Testing 36 way accuracy ...\n",
            "Completed - 65.8% accuracy\n",
            "\n",
            "Testing 49 way accuracy ...\n",
            "Completed - 66.60000000000001% accuracy\n",
            "\n",
            "Testing 64 way accuracy ...\n",
            "Completed - 56.599999999999994% accuracy\n",
            "\n",
            "Testing 81 way accuracy ...\n",
            "Completed - 55.800000000000004% accuracy\n",
            "\n",
            "Testing 100 way accuracy ...\n",
            "Completed - 52.6% accuracy\n",
            "Complete!\n",
            "\n"
          ],
          "name": "stdout"
        },
        {
          "output_type": "execute_result",
          "data": {
            "text/plain": [
              "[<matplotlib.lines.Line2D at 0x7fdac9772da0>]"
            ]
          },
          "metadata": {
            "tags": []
          },
          "execution_count": 57
        },
        {
          "output_type": "display_data",
          "data": {
            "image/png": "[encoded data removed]",
            "text/plain": [
              "<Figure size 432x288 with 1 Axes>"
            ]
          },
          "metadata": {
            "tags": []
          }
        }
      ]
    },
    {
      "cell_type": "code",
      "metadata": {
        "id": "mVo2v72S0z9C",
        "colab_type": "code",
        "colab": {}
      },
      "source": [
        ""
      ],
      "execution_count": 0,
      "outputs": []
    }
  ]
}