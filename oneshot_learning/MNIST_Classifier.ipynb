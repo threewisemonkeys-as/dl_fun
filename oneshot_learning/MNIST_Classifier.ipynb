{
  "nbformat": 4,
  "nbformat_minor": 0,
  "metadata": {
    "colab": {
      "name": "MNIST_Classifier.ipynb",
      "provenance": [],
      "collapsed_sections": [],
      "include_colab_link": true
    },
    "kernelspec": {
      "name": "python3",
      "display_name": "Python 3"
    },
    "accelerator": "GPU"
  },
  "cells": [
    {
      "cell_type": "markdown",
      "metadata": {
        "id": "view-in-github",
        "colab_type": "text"
      },
      "source": [
        "<a href=\"https://colab.research.google.com/github/threewisemonkeys-as/dl_fun/blob/master/oneshot_learning/MNIST_Classifier.ipynb\" target=\"_parent\"><img src=\"https://colab.research.google.com/assets/colab-badge.svg\" alt=\"Open In Colab\"/></a>"
      ]
    },
    {
      "cell_type": "code",
      "metadata": {
        "id": "CAN_pPsSLxfA",
        "colab_type": "code",
        "outputId": "335654ae-3698-4e74-81b1-28ed35aa900b",
        "colab": {
          "base_uri": "https://localhost:8080/",
          "height": 34
        }
      },
      "source": [
        "import os\n",
        "import random\n",
        "\n",
        "import torch\n",
        "from torch.autograd import Variable\n",
        "import torch.optim as optim\n",
        "import torch.nn as nn\n",
        " \n",
        "import torchvision\n",
        "import torchvision.transforms as T\n",
        "from torchvision.datasets import MNIST\n",
        "\n",
        "import numpy as np\n",
        "import matplotlib\n",
        "import matplotlib.pyplot as plt\n",
        "\n",
        "is_ipython = 'inline' in matplotlib.get_backend()\n",
        "if is_ipython:\n",
        "    from IPython.core.debugger import set_trace\n",
        "    from IPython import display\n",
        "plt.ion()\n",
        "\n",
        "device = torch.device(\"cuda\" if torch.cuda.is_available() else \"cpu\")\n",
        "device"
      ],
      "execution_count": 0,
      "outputs": [
        {
          "output_type": "execute_result",
          "data": {
            "text/plain": [
              "device(type='cuda')"
            ]
          },
          "metadata": {
            "tags": []
          },
          "execution_count": 1
        }
      ]
    },
    {
      "cell_type": "code",
      "metadata": {
        "id": "UjPuM1a3Mgwn",
        "colab_type": "code",
        "outputId": "73a9dafa-7b31-4938-badc-2addd710bd20",
        "colab": {
          "base_uri": "https://localhost:8080/",
          "height": 275
        }
      },
      "source": [
        "transform = T.Compose([T.ToTensor(),\n",
        "                       T.Normalize((0.5,), (0.5,)),\n",
        "                      ])\n",
        "\n",
        "trainset = MNIST(root='./data', train=True,\n",
        "                 download=True, transform=transform)\n",
        "trainloader = torch.utils.data.DataLoader(trainset, batch_size=32,\n",
        "                                          shuffle=True, num_workers=4, pin_memory=True)\n",
        "\n",
        "\n",
        "testset = MNIST(root='./data', train=False,\n",
        "                download=True, transform=transform)\n",
        "testloader = torch.utils.data.DataLoader(testset, batch_size=32,\n",
        "                                         shuffle=False, num_workers=4)"
      ],
      "execution_count": 0,
      "outputs": [
        {
          "output_type": "stream",
          "text": [
            "\r0it [00:00, ?it/s]"
          ],
          "name": "stderr"
        },
        {
          "output_type": "stream",
          "text": [
            "Downloading http://yann.lecun.com/exdb/mnist/train-images-idx3-ubyte.gz to ./data/MNIST/raw/train-images-idx3-ubyte.gz\n"
          ],
          "name": "stdout"
        },
        {
          "output_type": "stream",
          "text": [
            "9920512it [00:01, 8123751.34it/s]                            \n"
          ],
          "name": "stderr"
        },
        {
          "output_type": "stream",
          "text": [
            "Extracting ./data/MNIST/raw/train-images-idx3-ubyte.gz to ./data/MNIST/raw\n"
          ],
          "name": "stdout"
        },
        {
          "output_type": "stream",
          "text": [
            "  0%|          | 0/28881 [00:00<?, ?it/s]"
          ],
          "name": "stderr"
        },
        {
          "output_type": "stream",
          "text": [
            "Downloading http://yann.lecun.com/exdb/mnist/train-labels-idx1-ubyte.gz to ./data/MNIST/raw/train-labels-idx1-ubyte.gz\n"
          ],
          "name": "stdout"
        },
        {
          "output_type": "stream",
          "text": [
            "32768it [00:00, 126158.96it/s]           \n",
            "  0%|          | 0/1648877 [00:00<?, ?it/s]"
          ],
          "name": "stderr"
        },
        {
          "output_type": "stream",
          "text": [
            "Extracting ./data/MNIST/raw/train-labels-idx1-ubyte.gz to ./data/MNIST/raw\n",
            "Downloading http://yann.lecun.com/exdb/mnist/t10k-images-idx3-ubyte.gz to ./data/MNIST/raw/t10k-images-idx3-ubyte.gz\n"
          ],
          "name": "stdout"
        },
        {
          "output_type": "stream",
          "text": [
            "1654784it [00:00, 2076304.69it/s]                            \n",
            "0it [00:00, ?it/s]"
          ],
          "name": "stderr"
        },
        {
          "output_type": "stream",
          "text": [
            "Extracting ./data/MNIST/raw/t10k-images-idx3-ubyte.gz to ./data/MNIST/raw\n",
            "Downloading http://yann.lecun.com/exdb/mnist/t10k-labels-idx1-ubyte.gz to ./data/MNIST/raw/t10k-labels-idx1-ubyte.gz\n"
          ],
          "name": "stdout"
        },
        {
          "output_type": "stream",
          "text": [
            "8192it [00:00, 47922.80it/s]            \n"
          ],
          "name": "stderr"
        },
        {
          "output_type": "stream",
          "text": [
            "Extracting ./data/MNIST/raw/t10k-labels-idx1-ubyte.gz to ./data/MNIST/raw\n",
            "Processing...\n",
            "Done!\n"
          ],
          "name": "stdout"
        }
      ]
    },
    {
      "cell_type": "code",
      "metadata": {
        "id": "rR1K9NeWOzx-",
        "colab_type": "code",
        "outputId": "d5f05a2e-9f61-4f84-8673-41680272d68e",
        "colab": {
          "base_uri": "https://localhost:8080/",
          "height": 254
        }
      },
      "source": [
        "#imshow = lambda img: plt.imshow(img.numpy().squeeze(), cmap='gray_r');\n",
        "\n",
        "def imshow(img):\n",
        "    img = (img / 2) + 0.5\n",
        "    npimg = img.numpy()\n",
        "    plt.imshow(np.transpose(npimg, (1, 2, 0)))\n",
        "    plt.show()\n",
        "    \n",
        "dataiter = iter(trainloader)\n",
        "images, labels = dataiter.next()\n",
        "\n",
        "print(images.shape)\n",
        "\n",
        "imshow(torchvision.utils.make_grid(images))\n",
        "print([a.item() for a in labels])"
      ],
      "execution_count": 0,
      "outputs": [
        {
          "output_type": "stream",
          "text": [
            "torch.Size([32, 1, 28, 28])\n"
          ],
          "name": "stdout"
        },
        {
          "output_type": "display_data",
          "data": {
            "image/png": "[encoded data removed]",
            "text/plain": [
              "<Figure size 432x288 with 1 Axes>"
            ]
          },
          "metadata": {
            "tags": []
          }
        },
        {
          "output_type": "stream",
          "text": [
            "[0, 3, 4, 2, 8, 4, 4, 8, 2, 3, 3, 3, 9, 1, 9, 1, 5, 4, 2, 5, 7, 9, 3, 6, 4, 6, 6, 5, 6, 0, 8, 7]\n"
          ],
          "name": "stdout"
        }
      ]
    },
    {
      "cell_type": "code",
      "metadata": {
        "id": "6YCzekhJWxHW",
        "colab_type": "code",
        "colab": {}
      },
      "source": [
        "def get_output_shape(input_shape, module, batch_size=1):\n",
        "    dummy_input = Variable(torch.rand(batch_size, *input_shape, device=device))\n",
        "    output_feat = module(dummy_input)\n",
        "    n_size = output_feat.data.view(batch_size, -1).size(1)\n",
        "    return n_size\n"
      ],
      "execution_count": 0,
      "outputs": []
    },
    {
      "cell_type": "code",
      "metadata": {
        "id": "mzwEXUF9PJjA",
        "colab_type": "code",
        "colab": {}
      },
      "source": [
        "class Net(nn.Module):\n",
        "\n",
        "  def __init__(self, input_shape):\n",
        "      super(Net, self).__init__()\n",
        "\n",
        "      self.feature_extractor = nn.Sequential(\n",
        "              nn.Conv2d(in_channels=1, out_channels=32, kernel_size=5), # 1x28x28 --> 32x24x24\n",
        "              nn.ReLU(),\n",
        "              nn.MaxPool2d(2, 2), # 32x24x24 --> 32x12x12\n",
        "              nn.Conv2d(in_channels=32, out_channels=64, kernel_size=3, padding=1), # 32x12x12 --> 64x12x12\n",
        "              nn.ReLU(),\n",
        "              nn.MaxPool2d(2, 2), # 64x12x12 --> 64x6x6\n",
        "              nn.Conv2d(in_channels=64, out_channels=128, kernel_size=3, padding=1), # 64x6x6 --> 128x6x6\n",
        "              nn.ReLU(),\n",
        "              nn.MaxPool2d(2, 2), # 128x6x6 --> 128x3x3\n",
        "              nn.Conv2d(in_channels=128, out_channels=256, kernel_size=3), # 128x3x3 --> 256x1x1\n",
        "          ).to(device)\n",
        "      \n",
        "      n_size = get_output_shape(input_shape, module=self.feature_extractor)\n",
        "      \n",
        "      self.dense = nn.Sequential(\n",
        "              nn.Linear(n_size, 1024),\n",
        "              nn.Linear(1024, 10),\n",
        "          ).to(device)\n",
        "\n",
        "  def forward(self, x):\n",
        "      features = self.feature_extractor(x)\n",
        "      features = features.view(features.size(0), -1)\n",
        "      predictions = self.dense(features)\n",
        "\n",
        "      return predictions\n"
      ],
      "execution_count": 0,
      "outputs": []
    },
    {
      "cell_type": "code",
      "metadata": {
        "id": "NWuE-PaW40iE",
        "colab_type": "code",
        "outputId": "9920096c-5b3f-484e-ec2a-761cbe7d919c",
        "colab": {
          "base_uri": "https://localhost:8080/",
          "height": 119
        }
      },
      "source": [
        "f = Net((1, 28, 28)).to(device)\n",
        "print(get_output_shape((1, 28, 28), f.feature_extractor))\n",
        "batch = [trainset[random.randrange(len(trainset))] for _ in range(32)]\n",
        "images, labels = list(zip(*batch))\n",
        "labels = torch.tensor(labels, dtype=torch.long, device=device)\n",
        "d = [i.unsqueeze(0) for i in images]\n",
        "e = torch.cat(d, 0)\n",
        "e = e.to(device)\n",
        "\n",
        "preds = f(e)\n",
        "preds.shape\n",
        "l = nn.CrossEntropyLoss()\n",
        "l(preds, labels)\n",
        "print(torch.argmax(preds, 1) == labels)\n",
        "sum(torch.argmax(preds, 1) == labels).item() / 32\n"
      ],
      "execution_count": 0,
      "outputs": [
        {
          "output_type": "stream",
          "text": [
            "256\n",
            "tensor([False, False, False,  True, False, False, False, False,  True, False,\n",
            "         True, False, False,  True, False, False, False, False, False, False,\n",
            "         True, False, False,  True, False,  True, False, False, False, False,\n",
            "        False,  True], device='cuda:0')\n"
          ],
          "name": "stdout"
        },
        {
          "output_type": "execute_result",
          "data": {
            "text/plain": [
              "0.25"
            ]
          },
          "metadata": {
            "tags": []
          },
          "execution_count": 11
        }
      ]
    },
    {
      "cell_type": "code",
      "metadata": {
        "colab_type": "code",
        "id": "u9FL37Wgg3gm",
        "colab": {}
      },
      "source": [
        "def test_accuracy(classifier, dataset, BATCH_SIZE):\n",
        "    classifier.eval()\n",
        "    batch = [dataset[random.randrange(len(dataset))] for _ in range(BATCH_SIZE)]\n",
        "    images, labels = list(zip(*batch))\n",
        "    labels = torch.tensor(labels, dtype=torch.long, device=device)\n",
        "\n",
        "    preds = classifier((torch.cat([i.unsqueeze(0) for i in images], 0)).to(device))\n",
        "    acc = sum(torch.argmax(preds, 1) == labels) / BATCH_SIZE\n",
        "\n",
        "    return acc.item()\n",
        "\n",
        "\n",
        "def train(classifier, dataset, dataloader, criterion_type, optimizer_type, \n",
        "          LEARNING_RATE=0.001, VERBOSE=False):\n",
        "    criterion = criterion_type().to(device)\n",
        "    optimizer = optimizer_type(classifier.parameters(), lr=LEARNING_RATE)\n",
        "    \n",
        "    print(\"Starting training proccess ... \\n\")\n",
        "\n",
        "    losses = []\n",
        "    accuracies = []\n",
        "    n = len(dataloader)\n",
        "    \n",
        "    for i_episode, data_elem in enumerate(dataloader):\n",
        "        classifier.train()\n",
        "        optimizer.zero_grad()\n",
        "\n",
        "        images, labels = data_elem\n",
        "        images, labels = images.to(device), labels.to(device)\n",
        "\n",
        "        prediction = classifier(images)\n",
        "        loss = criterion(prediction, labels)\n",
        "        loss.backward()\n",
        "        losses.append(loss.item())\n",
        "        optimizer.step()    \n",
        "\n",
        "        if (i_episode+1) % (n/20) == 0: \n",
        "            accuracies.append(test_accuracy(classifier, dataset, BATCH_SIZE=32))\n",
        "            if VERBOSE:\n",
        "                print(f\"Episode {i_episode + 1} / {n} ({((i_episode + 1)*100) // n}%) | Current Accuracy: {(accuracies[-1]*100):.2f}% | Running Loss of last 5% ({n // 20}) = {(sum(losses[-(n//20):]) / len(losses[-(n//20):])):.4f}\")\n",
        "\n",
        "        \n",
        "    print(f\"\\nComplete!\\n\")\n",
        "    plt.plot(losses)"
      ],
      "execution_count": 0,
      "outputs": []
    },
    {
      "cell_type": "code",
      "metadata": {
        "id": "4MAO6bvplVA4",
        "colab_type": "code",
        "outputId": "5badfabb-5161-4f66-e7f6-b965218da99d",
        "colab": {
          "base_uri": "https://localhost:8080/",
          "height": 323
        }
      },
      "source": [
        "n = Net((1, 28, 28)).to(device)\n",
        "n"
      ],
      "execution_count": 0,
      "outputs": [
        {
          "output_type": "execute_result",
          "data": {
            "text/plain": [
              "Net(\n",
              "  (feature_extractor): Sequential(\n",
              "    (0): Conv2d(1, 32, kernel_size=(5, 5), stride=(1, 1))\n",
              "    (1): ReLU()\n",
              "    (2): MaxPool2d(kernel_size=2, stride=2, padding=0, dilation=1, ceil_mode=False)\n",
              "    (3): Conv2d(32, 64, kernel_size=(3, 3), stride=(1, 1), padding=(1, 1))\n",
              "    (4): ReLU()\n",
              "    (5): MaxPool2d(kernel_size=2, stride=2, padding=0, dilation=1, ceil_mode=False)\n",
              "    (6): Conv2d(64, 128, kernel_size=(3, 3), stride=(1, 1), padding=(1, 1))\n",
              "    (7): ReLU()\n",
              "    (8): MaxPool2d(kernel_size=2, stride=2, padding=0, dilation=1, ceil_mode=False)\n",
              "    (9): Conv2d(128, 256, kernel_size=(3, 3), stride=(1, 1))\n",
              "  )\n",
              "  (dense): Sequential(\n",
              "    (0): Linear(in_features=256, out_features=1024, bias=True)\n",
              "    (1): Linear(in_features=1024, out_features=10, bias=True)\n",
              "  )\n",
              ")"
            ]
          },
          "metadata": {
            "tags": []
          },
          "execution_count": 9
        }
      ]
    },
    {
      "cell_type": "code",
      "metadata": {
        "id": "vpN2bi94dVik",
        "colab_type": "code",
        "outputId": "c5914f2d-d814-4e1d-f055-7d113890f1c2",
        "colab": {
          "base_uri": "https://localhost:8080/",
          "height": 436
        }
      },
      "source": [
        "train(classifier=n,\n",
        "      dataset=trainset,\n",
        "      dataloader=trainloader,\n",
        "      criterion_type=nn.CrossEntropyLoss,\n",
        "      optimizer_type=optim.Adam,\n",
        "      LEARNING_RATE=0.001,\n",
        "      VERBOSE=True,\n",
        "     )"
      ],
      "execution_count": 0,
      "outputs": [
        {
          "output_type": "stream",
          "text": [
            "Starting training proccess ... \n",
            "\n",
            "Episode 375 / 1875 (20%) | Current Accuracy: 0.00% | Running Loss of last 5% (93) = 0.1084\n",
            "Episode 750 / 1875 (40%) | Current Accuracy: 0.00% | Running Loss of last 5% (93) = 0.1241\n",
            "Episode 1125 / 1875 (60%) | Current Accuracy: 0.00% | Running Loss of last 5% (93) = 0.0874\n",
            "Episode 1500 / 1875 (80%) | Current Accuracy: 0.00% | Running Loss of last 5% (93) = 0.0763\n",
            "Episode 1875 / 1875 (100%) | Current Accuracy: 100.00% | Running Loss of last 5% (93) = 0.0545\n",
            "\n",
            "Complete!\n",
            "\n"
          ],
          "name": "stdout"
        },
        {
          "output_type": "display_data",
          "data": {
            "image/png": "[encoded data removed]",
            "text/plain": [
              "<Figure size 432x288 with 1 Axes>"
            ]
          },
          "metadata": {
            "tags": []
          }
        }
      ]
    },
    {
      "cell_type": "code",
      "metadata": {
        "id": "gEwonHGeOHJl",
        "colab_type": "code",
        "colab": {}
      },
      "source": [
        "def test(classifier, dataloader):\n",
        "    accuracies = []\n",
        "    n = len(dataloader)\n",
        "        \n",
        "    for i_episode, data_elem in enumerate(dataloader):\n",
        "        classifier.eval()\n",
        "\n",
        "        images, labels = data_elem\n",
        "        images, labels = images.to(device), labels.to(device)\n",
        "        \n",
        "\n",
        "        prediction = classifier(images)\n",
        "        accuracies.append(sum(torch.argmax(prediction, 1) == labels).item() / 32)\n",
        "\n",
        "\n",
        "        if (i_episode+1) % (n/20) == 0: \n",
        "                print(f\"Episode {i_episode + 1} / {n} ({((i_episode + 1)*100) // n}%)\")# | Current Accuracy: {(accuracies[-1]*100):.2f}% | Running Loss of last 5% ({n // 20}) = {(sum(losses[-(n//20):]) / len(losses[-(n//20):])):.4f}\")\n",
        "\n",
        "        \n",
        "    print(sum(accuracies)/len(accuracies) * 100)\n",
        "    print(f\"\\nComplete!\\n\")\n"
      ],
      "execution_count": 0,
      "outputs": []
    },
    {
      "cell_type": "code",
      "metadata": {
        "id": "Qkkl6F_lOL8R",
        "colab_type": "code",
        "outputId": "55e7dd58-e304-49b4-f00d-f9ecfbec6e8e",
        "colab": {
          "base_uri": "https://localhost:8080/",
          "height": 85
        }
      },
      "source": [
        "test(classifier=n, dataloader=testloader)"
      ],
      "execution_count": 0,
      "outputs": [
        {
          "output_type": "stream",
          "text": [
            "98.3326677316294\n",
            "\n",
            "Complete!\n",
            "\n"
          ],
          "name": "stdout"
        }
      ]
    },
    {
      "cell_type": "code",
      "metadata": {
        "id": "UWDDgDw8Vs-t",
        "colab_type": "code",
        "colab": {}
      },
      "source": [
        "from google.colab import files\n",
        "torch.save(n.state_dict(), 'mnist_classifier.pth')\n",
        "files.download('mnist_classifier.pth')"
      ],
      "execution_count": 0,
      "outputs": []
    },
    {
      "cell_type": "code",
      "metadata": {
        "id": "3e6GvbeukBUd",
        "colab_type": "code",
        "colab": {}
      },
      "source": [
        ""
      ],
      "execution_count": 0,
      "outputs": []
    }
  ]
}